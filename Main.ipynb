{
 "cells": [
  {
   "cell_type": "code",
   "execution_count": 19,
   "metadata": {},
   "outputs": [],
   "source": [
    "import xgboost as xgb\n",
    "from xgboost import XGBClassifier\n",
    "#import lightgbm as lbm\n",
    "from sklearn.ensemble import RandomForestClassifier\n",
    "from sklearn.model_selection import cross_val_predict"
   ]
  },
  {
   "cell_type": "markdown",
   "metadata": {},
   "source": [
    "### Feature importance \n",
    "\n",
    "|model/features|top features||\n",
    "|---|---|---|\n",
    "|xgb + num only|weight,image_width, price, image_height, images_countn,year||\n",
    "|xgb + shoes|price, weight,image_width,image_height,shoe_size,image_height ||\n",
    "||||\n"
   ]
  },
  {
   "cell_type": "markdown",
   "metadata": {},
   "source": [
    "|model|cv|submission|\n",
    "|---|---|---|\n",
    "|xgb + only num|1.038051||\n",
    "|xgb + only num (+condition)|1.037834|?|\n",
    "|xgb + only num (+condition, feats_to_remove)|1.037588|1.05475|\n",
    "|xgb + shoes/comp(feats_to_remove) |0.870668/1.040262|1.05666|\n",
    "|xgb + shoes/comp(+condition, feats_to_remove) |0.865981/1.036923|1.05582|\n",
    "|xgb + only num (+fe)|1.03424|1.05282|\n",
    "|xgb + tfidf200|1.053205|1.06754|\n",
    "|xgb + tfidf200 + fe|1.042723|1.06109|\n",
    "|xgb(es = 20) + tfidf200 (prod desc)|1.024326|1.05221|\n",
    "|xgb(es = 100) + tfidf200 (prod desc)|0.927637|1.02822|\n",
    "|xgb(es = 300) + tfidf200 (prod desc)|0.833815|1.02947|\n",
    "|xgb(es = 150) + tfidf200 (prod desc/categories)|0.896901|1.02672|\n",
    "|xgb(es = 150) + tfidf200 (prod desc/categories) + fe|0.8271|0.98030|\n",
    "||||"
   ]
  },
  {
   "cell_type": "code",
   "execution_count": 20,
   "metadata": {},
   "outputs": [
    {
     "name": "stderr",
     "output_type": "stream",
     "text": [
      "b'Skipping line 2168: expected 31 fields, saw 33\\nSkipping line 4822: expected 31 fields, saw 37\\nSkipping line 4859: expected 31 fields, saw 37\\nSkipping line 7342: expected 31 fields, saw 37\\n'\n"
     ]
    }
   ],
   "source": [
    "import pandas as pd\n",
    "import numpy as np\n",
    "import matplotlib.pyplot as plt\n",
    "%matplotlib inline \n",
    "pd.set_option('display.max_columns', 500)\n",
    "\n",
    "X_train = pd.read_csv(\"data/X_train.csv\", index_col=0, error_bad_lines=False)\n",
    "X_test = pd.read_csv(\"data/X_test.csv\", index_col=0, error_bad_lines=False)\n",
    "y_train = pd.read_csv(\"data/y_train.csv\", index_col=0)"
   ]
  },
  {
   "cell_type": "code",
   "execution_count": 5,
   "metadata": {},
   "outputs": [
    {
     "data": {
      "text/plain": [
       "((8880, 30), (2960, 30), (8880, 1))"
      ]
     },
     "execution_count": 5,
     "metadata": {},
     "output_type": "execute_result"
    }
   ],
   "source": [
    "X_train.shape, X_test.shape, y_train.shape"
   ]
  },
  {
   "cell_type": "code",
   "execution_count": 26,
   "metadata": {},
   "outputs": [
    {
     "data": {
      "text/html": [
       "<div>\n",
       "<style scoped>\n",
       "    .dataframe tbody tr th:only-of-type {\n",
       "        vertical-align: middle;\n",
       "    }\n",
       "\n",
       "    .dataframe tbody tr th {\n",
       "        vertical-align: top;\n",
       "    }\n",
       "\n",
       "    .dataframe thead th {\n",
       "        text-align: right;\n",
       "    }\n",
       "</style>\n",
       "<table border=\"1\" class=\"dataframe\">\n",
       "  <thead>\n",
       "    <tr style=\"text-align: right;\">\n",
       "      <th></th>\n",
       "      <th>images_count</th>\n",
       "      <th>image_width</th>\n",
       "      <th>image_height</th>\n",
       "      <th>image_url</th>\n",
       "      <th>product_description</th>\n",
       "      <th>product_size</th>\n",
       "      <th>material</th>\n",
       "      <th>age</th>\n",
       "      <th>warranty</th>\n",
       "      <th>year</th>\n",
       "      <th>color</th>\n",
       "      <th>product_width</th>\n",
       "      <th>wifi</th>\n",
       "      <th>condition</th>\n",
       "      <th>product_length</th>\n",
       "      <th>shoe_size</th>\n",
       "      <th>vintage</th>\n",
       "      <th>brand</th>\n",
       "      <th>author</th>\n",
       "      <th>editor</th>\n",
       "      <th>product_height</th>\n",
       "      <th>weight</th>\n",
       "      <th>price</th>\n",
       "      <th>category</th>\n",
       "      <th>sub_category_1</th>\n",
       "      <th>sub_category_2</th>\n",
       "      <th>sub_category_3</th>\n",
       "      <th>sub_category_4</th>\n",
       "      <th>product_name</th>\n",
       "      <th>store_name</th>\n",
       "    </tr>\n",
       "    <tr>\n",
       "      <th>id</th>\n",
       "      <th></th>\n",
       "      <th></th>\n",
       "      <th></th>\n",
       "      <th></th>\n",
       "      <th></th>\n",
       "      <th></th>\n",
       "      <th></th>\n",
       "      <th></th>\n",
       "      <th></th>\n",
       "      <th></th>\n",
       "      <th></th>\n",
       "      <th></th>\n",
       "      <th></th>\n",
       "      <th></th>\n",
       "      <th></th>\n",
       "      <th></th>\n",
       "      <th></th>\n",
       "      <th></th>\n",
       "      <th></th>\n",
       "      <th></th>\n",
       "      <th></th>\n",
       "      <th></th>\n",
       "      <th></th>\n",
       "      <th></th>\n",
       "      <th></th>\n",
       "      <th></th>\n",
       "      <th></th>\n",
       "      <th></th>\n",
       "      <th></th>\n",
       "      <th></th>\n",
       "    </tr>\n",
       "  </thead>\n",
       "  <tbody>\n",
       "    <tr>\n",
       "      <th>0</th>\n",
       "      <td>1</td>\n",
       "      <td>616.0</td>\n",
       "      <td>616.0</td>\n",
       "      <td>https://d1kvfoyrif6wzg.cloudfront.net/assets/i...</td>\n",
       "      <td>&lt;p&gt;&lt;strong&gt;Livre d'occasion écrit par Stephen ...</td>\n",
       "      <td>NaN</td>\n",
       "      <td>NaN</td>\n",
       "      <td>NaN</td>\n",
       "      <td>NaN</td>\n",
       "      <td>1999.0</td>\n",
       "      <td>NaN</td>\n",
       "      <td>NaN</td>\n",
       "      <td>NaN</td>\n",
       "      <td>bon état</td>\n",
       "      <td>NaN</td>\n",
       "      <td>NaN</td>\n",
       "      <td>NaN</td>\n",
       "      <td>NaN</td>\n",
       "      <td>Stephen King</td>\n",
       "      <td>J'Ai Lu</td>\n",
       "      <td>NaN</td>\n",
       "      <td>149.0</td>\n",
       "      <td>1.8</td>\n",
       "      <td>librairie</td>\n",
       "      <td>NaN</td>\n",
       "      <td>NaN</td>\n",
       "      <td>NaN</td>\n",
       "      <td>NaN</td>\n",
       "      <td>Peur bleue - Stephen King</td>\n",
       "      <td>Booki - la Librairie Solidaire de Retrilog</td>\n",
       "    </tr>\n",
       "    <tr>\n",
       "      <th>1</th>\n",
       "      <td>2</td>\n",
       "      <td>3000.0</td>\n",
       "      <td>4000.0</td>\n",
       "      <td>https://d1kvfoyrif6wzg.cloudfront.net/assets/i...</td>\n",
       "      <td>Eléguant haut transparent  pour femme imprimé ...</td>\n",
       "      <td>XXL</td>\n",
       "      <td>polyester</td>\n",
       "      <td>NaN</td>\n",
       "      <td>NaN</td>\n",
       "      <td>NaN</td>\n",
       "      <td>Multicolore</td>\n",
       "      <td>NaN</td>\n",
       "      <td>NaN</td>\n",
       "      <td>bon état</td>\n",
       "      <td>NaN</td>\n",
       "      <td>NaN</td>\n",
       "      <td>False</td>\n",
       "      <td>Woman</td>\n",
       "      <td>NaN</td>\n",
       "      <td>NaN</td>\n",
       "      <td>NaN</td>\n",
       "      <td>100.0</td>\n",
       "      <td>3.0</td>\n",
       "      <td>mode</td>\n",
       "      <td>tops, t-shirts, débardeurs femme</td>\n",
       "      <td>NaN</td>\n",
       "      <td>NaN</td>\n",
       "      <td>NaN</td>\n",
       "      <td>vêtement femme Woman</td>\n",
       "      <td>Emmaüs 88 Neufchateau</td>\n",
       "    </tr>\n",
       "    <tr>\n",
       "      <th>2</th>\n",
       "      <td>3</td>\n",
       "      <td>2448.0</td>\n",
       "      <td>2448.0</td>\n",
       "      <td>https://d1kvfoyrif6wzg.cloudfront.net/assets/i...</td>\n",
       "      <td>Collants bleu motifs en losange discret femme ...</td>\n",
       "      <td>NaN</td>\n",
       "      <td>85 % polyamide, 15% élasthanne.</td>\n",
       "      <td>NaN</td>\n",
       "      <td>NaN</td>\n",
       "      <td>NaN</td>\n",
       "      <td>Bleu</td>\n",
       "      <td>NaN</td>\n",
       "      <td>NaN</td>\n",
       "      <td>neuf</td>\n",
       "      <td>NaN</td>\n",
       "      <td>NaN</td>\n",
       "      <td>False</td>\n",
       "      <td>KUNERT</td>\n",
       "      <td>NaN</td>\n",
       "      <td>NaN</td>\n",
       "      <td>NaN</td>\n",
       "      <td>200.0</td>\n",
       "      <td>3.0</td>\n",
       "      <td>mode</td>\n",
       "      <td>accessoires femme</td>\n",
       "      <td>label selection</td>\n",
       "      <td>NaN</td>\n",
       "      <td>NaN</td>\n",
       "      <td>Collants bleu motifs en losange discret femme ...</td>\n",
       "      <td>Emmaüs Sacré Dressing !</td>\n",
       "    </tr>\n",
       "    <tr>\n",
       "      <th>3</th>\n",
       "      <td>10</td>\n",
       "      <td>2448.0</td>\n",
       "      <td>2448.0</td>\n",
       "      <td>https://d1kvfoyrif6wzg.cloudfront.net/assets/i...</td>\n",
       "      <td>Un beau vase à couvercle en porcelaine\\nde la ...</td>\n",
       "      <td>NaN</td>\n",
       "      <td>Porcelaine</td>\n",
       "      <td>NaN</td>\n",
       "      <td>NaN</td>\n",
       "      <td>NaN</td>\n",
       "      <td>Multicolore</td>\n",
       "      <td>NaN</td>\n",
       "      <td>NaN</td>\n",
       "      <td>bon état</td>\n",
       "      <td>NaN</td>\n",
       "      <td>NaN</td>\n",
       "      <td>NaN</td>\n",
       "      <td>Kaiser Porcelaine</td>\n",
       "      <td>NaN</td>\n",
       "      <td>NaN</td>\n",
       "      <td>NaN</td>\n",
       "      <td>2130.0</td>\n",
       "      <td>20.0</td>\n",
       "      <td>mobilier - deco</td>\n",
       "      <td>Vases et Pots</td>\n",
       "      <td>NaN</td>\n",
       "      <td>NaN</td>\n",
       "      <td>NaN</td>\n",
       "      <td>Vase à Couvercle</td>\n",
       "      <td>Emmaüs Vannes - la Boutique en ligne</td>\n",
       "    </tr>\n",
       "    <tr>\n",
       "      <th>4</th>\n",
       "      <td>3</td>\n",
       "      <td>2753.0</td>\n",
       "      <td>2974.0</td>\n",
       "      <td>https://d1kvfoyrif6wzg.cloudfront.net/assets/i...</td>\n",
       "      <td>Ancien Boulier d'écolier en bois . Les enfants...</td>\n",
       "      <td>NaN</td>\n",
       "      <td>NaN</td>\n",
       "      <td>NaN</td>\n",
       "      <td>NaN</td>\n",
       "      <td>NaN</td>\n",
       "      <td>Multicolore</td>\n",
       "      <td>NaN</td>\n",
       "      <td>NaN</td>\n",
       "      <td>en l'état</td>\n",
       "      <td>NaN</td>\n",
       "      <td>NaN</td>\n",
       "      <td>True</td>\n",
       "      <td>NaN</td>\n",
       "      <td>NaN</td>\n",
       "      <td>NaN</td>\n",
       "      <td>NaN</td>\n",
       "      <td>340.0</td>\n",
       "      <td>7.5</td>\n",
       "      <td>enfance</td>\n",
       "      <td>jouets anciens, jouets en bois</td>\n",
       "      <td>NaN</td>\n",
       "      <td>NaN</td>\n",
       "      <td>NaN</td>\n",
       "      <td>Ancien Boulier d'écolier en bois</td>\n",
       "      <td>Emmaüs 88 Neufchateau</td>\n",
       "    </tr>\n",
       "  </tbody>\n",
       "</table>\n",
       "</div>"
      ],
      "text/plain": [
       "    images_count  image_width  image_height  \\\n",
       "id                                            \n",
       "0              1        616.0         616.0   \n",
       "1              2       3000.0        4000.0   \n",
       "2              3       2448.0        2448.0   \n",
       "3             10       2448.0        2448.0   \n",
       "4              3       2753.0        2974.0   \n",
       "\n",
       "                                            image_url  \\\n",
       "id                                                      \n",
       "0   https://d1kvfoyrif6wzg.cloudfront.net/assets/i...   \n",
       "1   https://d1kvfoyrif6wzg.cloudfront.net/assets/i...   \n",
       "2   https://d1kvfoyrif6wzg.cloudfront.net/assets/i...   \n",
       "3   https://d1kvfoyrif6wzg.cloudfront.net/assets/i...   \n",
       "4   https://d1kvfoyrif6wzg.cloudfront.net/assets/i...   \n",
       "\n",
       "                                  product_description product_size  \\\n",
       "id                                                                   \n",
       "0   <p><strong>Livre d'occasion écrit par Stephen ...          NaN   \n",
       "1   Eléguant haut transparent  pour femme imprimé ...          XXL   \n",
       "2   Collants bleu motifs en losange discret femme ...          NaN   \n",
       "3   Un beau vase à couvercle en porcelaine\\nde la ...          NaN   \n",
       "4   Ancien Boulier d'écolier en bois . Les enfants...          NaN   \n",
       "\n",
       "                             material  age warranty    year        color  \\\n",
       "id                                                                         \n",
       "0                                 NaN  NaN      NaN  1999.0          NaN   \n",
       "1                          polyester   NaN      NaN     NaN  Multicolore   \n",
       "2    85 % polyamide, 15% élasthanne.   NaN      NaN     NaN         Bleu   \n",
       "3                          Porcelaine  NaN      NaN     NaN  Multicolore   \n",
       "4                                 NaN  NaN      NaN     NaN  Multicolore   \n",
       "\n",
       "    product_width wifi  condition  product_length  shoe_size vintage  \\\n",
       "id                                                                     \n",
       "0             NaN  NaN   bon état             NaN        NaN     NaN   \n",
       "1             NaN  NaN   bon état             NaN        NaN   False   \n",
       "2             NaN  NaN       neuf             NaN        NaN   False   \n",
       "3             NaN  NaN   bon état             NaN        NaN     NaN   \n",
       "4             NaN  NaN  en l'état             NaN        NaN    True   \n",
       "\n",
       "                brand        author   editor  product_height  weight  price  \\\n",
       "id                                                                            \n",
       "0                 NaN  Stephen King  J'Ai Lu             NaN   149.0    1.8   \n",
       "1               Woman           NaN      NaN             NaN   100.0    3.0   \n",
       "2             KUNERT            NaN      NaN             NaN   200.0    3.0   \n",
       "3   Kaiser Porcelaine           NaN      NaN             NaN  2130.0   20.0   \n",
       "4                 NaN           NaN      NaN             NaN   340.0    7.5   \n",
       "\n",
       "           category                    sub_category_1   sub_category_2  \\\n",
       "id                                                                       \n",
       "0         librairie                               NaN              NaN   \n",
       "1              mode  tops, t-shirts, débardeurs femme              NaN   \n",
       "2              mode                 accessoires femme  label selection   \n",
       "3   mobilier - deco                     Vases et Pots              NaN   \n",
       "4           enfance    jouets anciens, jouets en bois              NaN   \n",
       "\n",
       "   sub_category_3 sub_category_4  \\\n",
       "id                                 \n",
       "0             NaN            NaN   \n",
       "1             NaN            NaN   \n",
       "2             NaN            NaN   \n",
       "3             NaN            NaN   \n",
       "4             NaN            NaN   \n",
       "\n",
       "                                         product_name  \\\n",
       "id                                                      \n",
       "0                           Peur bleue - Stephen King   \n",
       "1                                vêtement femme Woman   \n",
       "2   Collants bleu motifs en losange discret femme ...   \n",
       "3                                    Vase à Couvercle   \n",
       "4                   Ancien Boulier d'écolier en bois    \n",
       "\n",
       "                                    store_name  \n",
       "id                                              \n",
       "0   Booki - la Librairie Solidaire de Retrilog  \n",
       "1                        Emmaüs 88 Neufchateau  \n",
       "2                      Emmaüs Sacré Dressing !  \n",
       "3         Emmaüs Vannes - la Boutique en ligne  \n",
       "4                        Emmaüs 88 Neufchateau  "
      ]
     },
     "execution_count": 26,
     "metadata": {},
     "output_type": "execute_result"
    }
   ],
   "source": [
    "X_test.head()"
   ]
  },
  {
   "cell_type": "markdown",
   "metadata": {},
   "source": [
    "### model 2 : specific model for shoes and complementary"
   ]
  },
  {
   "cell_type": "markdown",
   "metadata": {},
   "source": [
    "##### clf_shoes"
   ]
  },
  {
   "cell_type": "code",
   "execution_count": 47,
   "metadata": {},
   "outputs": [],
   "source": [
    "clf_shoes = xgb.XGBClassifier(n_estimators = 10, \n",
    "                       learning_rate = 0.05,\n",
    "                       max_depth=6,\n",
    "                       n_jobs=1,\n",
    "                       alpha = 0.1,objective='multi:softprob')\n",
    "booster = xgb.Booster({'nthread': 4})  # init model\n",
    "booster.load_model('shoes_model')  # load data\n",
    "clf_shoes._Booster = booster"
   ]
  },
  {
   "cell_type": "code",
   "execution_count": 48,
   "metadata": {},
   "outputs": [
    {
     "name": "stdout",
     "output_type": "stream",
     "text": [
      "(77, 10)\n"
     ]
    },
    {
     "data": {
      "text/html": [
       "<div>\n",
       "<style scoped>\n",
       "    .dataframe tbody tr th:only-of-type {\n",
       "        vertical-align: middle;\n",
       "    }\n",
       "\n",
       "    .dataframe tbody tr th {\n",
       "        vertical-align: top;\n",
       "    }\n",
       "\n",
       "    .dataframe thead th {\n",
       "        text-align: right;\n",
       "    }\n",
       "</style>\n",
       "<table border=\"1\" class=\"dataframe\">\n",
       "  <thead>\n",
       "    <tr style=\"text-align: right;\">\n",
       "      <th></th>\n",
       "      <th>images_count</th>\n",
       "      <th>image_width</th>\n",
       "      <th>image_height</th>\n",
       "      <th>year</th>\n",
       "      <th>product_width</th>\n",
       "      <th>product_length</th>\n",
       "      <th>shoe_size</th>\n",
       "      <th>product_height</th>\n",
       "      <th>weight</th>\n",
       "      <th>price</th>\n",
       "    </tr>\n",
       "    <tr>\n",
       "      <th>id</th>\n",
       "      <th></th>\n",
       "      <th></th>\n",
       "      <th></th>\n",
       "      <th></th>\n",
       "      <th></th>\n",
       "      <th></th>\n",
       "      <th></th>\n",
       "      <th></th>\n",
       "      <th></th>\n",
       "      <th></th>\n",
       "    </tr>\n",
       "  </thead>\n",
       "  <tbody>\n",
       "    <tr>\n",
       "      <th>38</th>\n",
       "      <td>6</td>\n",
       "      <td>2448.0</td>\n",
       "      <td>2448.0</td>\n",
       "      <td>NaN</td>\n",
       "      <td>NaN</td>\n",
       "      <td>NaN</td>\n",
       "      <td>38.0</td>\n",
       "      <td>NaN</td>\n",
       "      <td>900.0</td>\n",
       "      <td>15.0</td>\n",
       "    </tr>\n",
       "    <tr>\n",
       "      <th>40</th>\n",
       "      <td>5</td>\n",
       "      <td>1536.0</td>\n",
       "      <td>1536.0</td>\n",
       "      <td>NaN</td>\n",
       "      <td>NaN</td>\n",
       "      <td>NaN</td>\n",
       "      <td>38.0</td>\n",
       "      <td>NaN</td>\n",
       "      <td>1000.0</td>\n",
       "      <td>8.0</td>\n",
       "    </tr>\n",
       "    <tr>\n",
       "      <th>164</th>\n",
       "      <td>2</td>\n",
       "      <td>1000.0</td>\n",
       "      <td>1000.0</td>\n",
       "      <td>NaN</td>\n",
       "      <td>NaN</td>\n",
       "      <td>NaN</td>\n",
       "      <td>35.0</td>\n",
       "      <td>NaN</td>\n",
       "      <td>1000.0</td>\n",
       "      <td>15.0</td>\n",
       "    </tr>\n",
       "    <tr>\n",
       "      <th>166</th>\n",
       "      <td>4</td>\n",
       "      <td>2448.0</td>\n",
       "      <td>2448.0</td>\n",
       "      <td>NaN</td>\n",
       "      <td>NaN</td>\n",
       "      <td>NaN</td>\n",
       "      <td>40.0</td>\n",
       "      <td>NaN</td>\n",
       "      <td>1000.0</td>\n",
       "      <td>25.0</td>\n",
       "    </tr>\n",
       "    <tr>\n",
       "      <th>281</th>\n",
       "      <td>5</td>\n",
       "      <td>2448.0</td>\n",
       "      <td>2448.0</td>\n",
       "      <td>NaN</td>\n",
       "      <td>NaN</td>\n",
       "      <td>NaN</td>\n",
       "      <td>37.0</td>\n",
       "      <td>NaN</td>\n",
       "      <td>800.0</td>\n",
       "      <td>9.0</td>\n",
       "    </tr>\n",
       "  </tbody>\n",
       "</table>\n",
       "</div>"
      ],
      "text/plain": [
       "     images_count  image_width  image_height  year  product_width  \\\n",
       "id                                                                  \n",
       "38              6       2448.0        2448.0   NaN            NaN   \n",
       "40              5       1536.0        1536.0   NaN            NaN   \n",
       "164             2       1000.0        1000.0   NaN            NaN   \n",
       "166             4       2448.0        2448.0   NaN            NaN   \n",
       "281             5       2448.0        2448.0   NaN            NaN   \n",
       "\n",
       "     product_length  shoe_size  product_height  weight  price  \n",
       "id                                                             \n",
       "38              NaN       38.0             NaN   900.0   15.0  \n",
       "40              NaN       38.0             NaN  1000.0    8.0  \n",
       "164             NaN       35.0             NaN  1000.0   15.0  \n",
       "166             NaN       40.0             NaN  1000.0   25.0  \n",
       "281             NaN       37.0             NaN   800.0    9.0  "
      ]
     },
     "execution_count": 48,
     "metadata": {},
     "output_type": "execute_result"
    }
   ],
   "source": [
    "X_test_with_shoes= X_test[X_test.shoe_size.notnull()]  \n",
    "X_test_with_shoes = X_test_with_shoes.select_dtypes(include=[np.number]) # only numeric\n",
    "print(X_test_with_shoes.shape)\n",
    "X_test_with_shoes.head()"
   ]
  },
  {
   "cell_type": "code",
   "execution_count": 55,
   "metadata": {},
   "outputs": [
    {
     "name": "stdout",
     "output_type": "stream",
     "text": [
      "(77, 3)\n"
     ]
    },
    {
     "data": {
      "text/plain": [
       "array([[0.33888066, 0.43615112, 0.22496818],\n",
       "       [0.27829602, 0.28051162, 0.4411923 ],\n",
       "       [0.26315498, 0.30770168, 0.42914328],\n",
       "       [0.35630164, 0.35496202, 0.28873634],\n",
       "       [0.31248763, 0.45626172, 0.23125067]], dtype=float32)"
      ]
     },
     "execution_count": 55,
     "metadata": {},
     "output_type": "execute_result"
    }
   ],
   "source": [
    "pred_test = clf_shoes.predict_proba(X_test_with_shoes)\n",
    "print(pred_test.shape)\n",
    "pred_test[:5]"
   ]
  },
  {
   "cell_type": "code",
   "execution_count": 56,
   "metadata": {},
   "outputs": [],
   "source": [
    "X_test_with_shoes_preds = pd.DataFrame(pred_test, index=X_test_with_shoes.index)"
   ]
  },
  {
   "cell_type": "markdown",
   "metadata": {},
   "source": [
    "##### clf_shoes_comp"
   ]
  },
  {
   "cell_type": "code",
   "execution_count": 57,
   "metadata": {},
   "outputs": [],
   "source": [
    "clf_shoes_comp = xgb.XGBClassifier(n_estimators = 10, \n",
    "                       learning_rate = 0.05,\n",
    "                       max_depth=6,\n",
    "                       n_jobs=1,\n",
    "                       alpha = 0.1,objective='multi:softprob')\n",
    "booster = xgb.Booster({'nthread': 4})  # init model\n",
    "booster.load_model('shoes_complementary_model')  # load data\n",
    "clf_shoes_comp._Booster = booster"
   ]
  },
  {
   "cell_type": "code",
   "execution_count": 58,
   "metadata": {},
   "outputs": [
    {
     "data": {
      "text/html": [
       "<div>\n",
       "<style scoped>\n",
       "    .dataframe tbody tr th:only-of-type {\n",
       "        vertical-align: middle;\n",
       "    }\n",
       "\n",
       "    .dataframe tbody tr th {\n",
       "        vertical-align: top;\n",
       "    }\n",
       "\n",
       "    .dataframe thead th {\n",
       "        text-align: right;\n",
       "    }\n",
       "</style>\n",
       "<table border=\"1\" class=\"dataframe\">\n",
       "  <thead>\n",
       "    <tr style=\"text-align: right;\">\n",
       "      <th></th>\n",
       "      <th>images_count</th>\n",
       "      <th>image_width</th>\n",
       "      <th>image_height</th>\n",
       "      <th>year</th>\n",
       "      <th>product_width</th>\n",
       "      <th>product_length</th>\n",
       "      <th>product_height</th>\n",
       "      <th>weight</th>\n",
       "      <th>price</th>\n",
       "    </tr>\n",
       "    <tr>\n",
       "      <th>id</th>\n",
       "      <th></th>\n",
       "      <th></th>\n",
       "      <th></th>\n",
       "      <th></th>\n",
       "      <th></th>\n",
       "      <th></th>\n",
       "      <th></th>\n",
       "      <th></th>\n",
       "      <th></th>\n",
       "    </tr>\n",
       "  </thead>\n",
       "  <tbody>\n",
       "    <tr>\n",
       "      <th>0</th>\n",
       "      <td>1</td>\n",
       "      <td>616.0</td>\n",
       "      <td>616.0</td>\n",
       "      <td>1999.0</td>\n",
       "      <td>NaN</td>\n",
       "      <td>NaN</td>\n",
       "      <td>NaN</td>\n",
       "      <td>149.0</td>\n",
       "      <td>1.8</td>\n",
       "    </tr>\n",
       "    <tr>\n",
       "      <th>1</th>\n",
       "      <td>2</td>\n",
       "      <td>3000.0</td>\n",
       "      <td>4000.0</td>\n",
       "      <td>NaN</td>\n",
       "      <td>NaN</td>\n",
       "      <td>NaN</td>\n",
       "      <td>NaN</td>\n",
       "      <td>100.0</td>\n",
       "      <td>3.0</td>\n",
       "    </tr>\n",
       "    <tr>\n",
       "      <th>2</th>\n",
       "      <td>3</td>\n",
       "      <td>2448.0</td>\n",
       "      <td>2448.0</td>\n",
       "      <td>NaN</td>\n",
       "      <td>NaN</td>\n",
       "      <td>NaN</td>\n",
       "      <td>NaN</td>\n",
       "      <td>200.0</td>\n",
       "      <td>3.0</td>\n",
       "    </tr>\n",
       "    <tr>\n",
       "      <th>3</th>\n",
       "      <td>10</td>\n",
       "      <td>2448.0</td>\n",
       "      <td>2448.0</td>\n",
       "      <td>NaN</td>\n",
       "      <td>NaN</td>\n",
       "      <td>NaN</td>\n",
       "      <td>NaN</td>\n",
       "      <td>2130.0</td>\n",
       "      <td>20.0</td>\n",
       "    </tr>\n",
       "    <tr>\n",
       "      <th>4</th>\n",
       "      <td>3</td>\n",
       "      <td>2753.0</td>\n",
       "      <td>2974.0</td>\n",
       "      <td>NaN</td>\n",
       "      <td>NaN</td>\n",
       "      <td>NaN</td>\n",
       "      <td>NaN</td>\n",
       "      <td>340.0</td>\n",
       "      <td>7.5</td>\n",
       "    </tr>\n",
       "  </tbody>\n",
       "</table>\n",
       "</div>"
      ],
      "text/plain": [
       "    images_count  image_width  image_height    year  product_width  \\\n",
       "id                                                                   \n",
       "0              1        616.0         616.0  1999.0            NaN   \n",
       "1              2       3000.0        4000.0     NaN            NaN   \n",
       "2              3       2448.0        2448.0     NaN            NaN   \n",
       "3             10       2448.0        2448.0     NaN            NaN   \n",
       "4              3       2753.0        2974.0     NaN            NaN   \n",
       "\n",
       "    product_length  product_height  weight  price  \n",
       "id                                                 \n",
       "0              NaN             NaN   149.0    1.8  \n",
       "1              NaN             NaN   100.0    3.0  \n",
       "2              NaN             NaN   200.0    3.0  \n",
       "3              NaN             NaN  2130.0   20.0  \n",
       "4              NaN             NaN   340.0    7.5  "
      ]
     },
     "execution_count": 58,
     "metadata": {},
     "output_type": "execute_result"
    }
   ],
   "source": [
    "features = ['images_count', 'image_width', 'image_height', 'image_url',\n",
    "       'product_description', 'product_size', 'material', 'age', 'warranty',\n",
    "       'year', 'color', 'product_width', 'wifi', 'condition', 'product_length',\n",
    "       'vintage', 'brand', 'author', 'editor', 'product_height',\n",
    "       'weight', 'price', 'category', 'sub_category_1', 'sub_category_2',\n",
    "       'sub_category_3', 'sub_category_4', 'product_name', 'store_name']\n",
    "X_test_without_shoes= X_test[~X_test.shoe_size.notnull()][features]\n",
    "\n",
    "X_test_without_shoes = X_test_without_shoes.select_dtypes(include=[np.number]) # only numeric\n",
    "X_test_without_shoes.head()"
   ]
  },
  {
   "cell_type": "code",
   "execution_count": 59,
   "metadata": {},
   "outputs": [
    {
     "data": {
      "text/plain": [
       "Int64Index([  38,   40,  164,  166,  281,  282,  385,  409,  416,  433,  478,\n",
       "             492,  526,  630,  694,  744,  752,  769,  792,  858,  875,  911,\n",
       "             912,  925,  946,  986, 1111, 1164, 1209, 1246, 1378, 1384, 1400,\n",
       "            1403, 1426, 1449, 1512, 1536, 1627, 1828, 1857, 1885, 1905, 2010,\n",
       "            2055, 2108, 2109, 2115, 2141, 2171, 2192, 2198, 2209, 2234, 2269,\n",
       "            2359, 2393, 2440, 2448, 2451, 2454, 2457, 2476, 2558, 2567, 2598,\n",
       "            2647, 2661, 2662, 2759, 2764, 2810, 2813, 2841, 2874, 2887, 2892],\n",
       "           dtype='int64', name='id')"
      ]
     },
     "execution_count": 59,
     "metadata": {},
     "output_type": "execute_result"
    }
   ],
   "source": [
    "X_test_with_shoes.index"
   ]
  },
  {
   "cell_type": "code",
   "execution_count": 60,
   "metadata": {},
   "outputs": [],
   "source": [
    "pred_test = clf_shoes_comp.predict_proba(X_test_without_shoes)"
   ]
  },
  {
   "cell_type": "code",
   "execution_count": 61,
   "metadata": {},
   "outputs": [],
   "source": [
    "X_test_without_shoes_preds = pd.DataFrame(pred_test, index=X_test_without_shoes.index)"
   ]
  },
  {
   "cell_type": "code",
   "execution_count": 63,
   "metadata": {},
   "outputs": [
    {
     "name": "stdout",
     "output_type": "stream",
     "text": [
      "(2960, 3)\n"
     ]
    },
    {
     "data": {
      "text/html": [
       "<div>\n",
       "<style scoped>\n",
       "    .dataframe tbody tr th:only-of-type {\n",
       "        vertical-align: middle;\n",
       "    }\n",
       "\n",
       "    .dataframe tbody tr th {\n",
       "        vertical-align: top;\n",
       "    }\n",
       "\n",
       "    .dataframe thead th {\n",
       "        text-align: right;\n",
       "    }\n",
       "</style>\n",
       "<table border=\"1\" class=\"dataframe\">\n",
       "  <thead>\n",
       "    <tr style=\"text-align: right;\">\n",
       "      <th></th>\n",
       "      <th>0</th>\n",
       "      <th>1</th>\n",
       "      <th>2</th>\n",
       "    </tr>\n",
       "    <tr>\n",
       "      <th>id</th>\n",
       "      <th></th>\n",
       "      <th></th>\n",
       "      <th></th>\n",
       "    </tr>\n",
       "  </thead>\n",
       "  <tbody>\n",
       "    <tr>\n",
       "      <th>38</th>\n",
       "      <td>0.338881</td>\n",
       "      <td>0.436151</td>\n",
       "      <td>0.224968</td>\n",
       "    </tr>\n",
       "    <tr>\n",
       "      <th>40</th>\n",
       "      <td>0.278296</td>\n",
       "      <td>0.280512</td>\n",
       "      <td>0.441192</td>\n",
       "    </tr>\n",
       "    <tr>\n",
       "      <th>164</th>\n",
       "      <td>0.263155</td>\n",
       "      <td>0.307702</td>\n",
       "      <td>0.429143</td>\n",
       "    </tr>\n",
       "    <tr>\n",
       "      <th>166</th>\n",
       "      <td>0.356302</td>\n",
       "      <td>0.354962</td>\n",
       "      <td>0.288736</td>\n",
       "    </tr>\n",
       "    <tr>\n",
       "      <th>281</th>\n",
       "      <td>0.312488</td>\n",
       "      <td>0.456262</td>\n",
       "      <td>0.231251</td>\n",
       "    </tr>\n",
       "  </tbody>\n",
       "</table>\n",
       "</div>"
      ],
      "text/plain": [
       "            0         1         2\n",
       "id                               \n",
       "38   0.338881  0.436151  0.224968\n",
       "40   0.278296  0.280512  0.441192\n",
       "164  0.263155  0.307702  0.429143\n",
       "166  0.356302  0.354962  0.288736\n",
       "281  0.312488  0.456262  0.231251"
      ]
     },
     "execution_count": 63,
     "metadata": {},
     "output_type": "execute_result"
    }
   ],
   "source": [
    "df_submission = pd.concat([X_test_with_shoes_preds,X_test_without_shoes_preds])\n",
    "print(df_submission.shape)\n",
    "df_submission.head()"
   ]
  },
  {
   "cell_type": "markdown",
   "metadata": {},
   "source": [
    "### Model 4 : "
   ]
  },
  {
   "cell_type": "code",
   "execution_count": 6,
   "metadata": {},
   "outputs": [],
   "source": [
    "def get_xgb_model(model_name):\n",
    "    clf = xgb.XGBClassifier(n_estimators = 10, \n",
    "                       learning_rate = 0.05,\n",
    "                       max_depth=6,\n",
    "                       n_jobs=1,\n",
    "                       alpha = 0.1,objective='multi:softprob')\n",
    "    booster = xgb.Booster({'nthread': 4})  # init model\n",
    "    booster.load_model(model_name)  # load data\n",
    "    clf._Booster = booster\n",
    "    return clf\n"
   ]
  },
  {
   "cell_type": "markdown",
   "metadata": {},
   "source": [
    "##### clf_shoes"
   ]
  },
  {
   "cell_type": "code",
   "execution_count": 7,
   "metadata": {},
   "outputs": [],
   "source": [
    "clf_shoes = get_xgb_model('shoes_model_v2')"
   ]
  },
  {
   "cell_type": "code",
   "execution_count": 8,
   "metadata": {},
   "outputs": [],
   "source": [
    "features_clf_shoes = ['images_count', 'image_width', 'image_height', 'year', 'condition', 'shoe_size', 'weight', 'price']\n"
   ]
  },
  {
   "cell_type": "code",
   "execution_count": 11,
   "metadata": {},
   "outputs": [],
   "source": [
    "X_test_shoes = X_test[~X_test.shoe_size.isnull()] # no shoes - rows\n",
    "X_test_shoes = X_test_shoes[features_clf_shoes] # no shoes column\n",
    "fix_condition(X_test_shoes)\n",
    "predicted_shoes = clf_shoes.predict_proba(X_test_shoes)\n",
    "df_submission_shoes = pd.DataFrame(predicted_shoes, index=X_test_shoes.index)"
   ]
  },
  {
   "cell_type": "code",
   "execution_count": null,
   "metadata": {},
   "outputs": [],
   "source": []
  },
  {
   "cell_type": "markdown",
   "metadata": {},
   "source": [
    "##### clf_shoes_comp"
   ]
  },
  {
   "cell_type": "code",
   "execution_count": 12,
   "metadata": {},
   "outputs": [],
   "source": [
    "clf_shoes_comp = get_xgb_model('shoes_model_comp_v2')"
   ]
  },
  {
   "cell_type": "code",
   "execution_count": 13,
   "metadata": {},
   "outputs": [],
   "source": [
    "features_clf_shoes_comp =  ['images_count', 'image_width', 'image_height', 'year', 'condition', 'weight', 'price']"
   ]
  },
  {
   "cell_type": "code",
   "execution_count": 15,
   "metadata": {},
   "outputs": [],
   "source": [
    "X_test_without_shoes = X_test[X_test.shoe_size.isnull()] # no shoes - rows\n",
    "X_test_without_shoes = X_test_without_shoes[features_clf_shoes_comp] # no shoes column\n",
    "fix_condition(X_test_without_shoes)\n",
    "predicted_without_shoes = clf_shoes_comp.predict_proba(X_test_without_shoes)\n",
    "df_submission_without_shoes = pd.DataFrame(predicted_without_shoes, index=X_test_without_shoes.index)"
   ]
  },
  {
   "cell_type": "markdown",
   "metadata": {},
   "source": [
    "##### concat predictions"
   ]
  },
  {
   "cell_type": "code",
   "execution_count": 16,
   "metadata": {},
   "outputs": [
    {
     "name": "stdout",
     "output_type": "stream",
     "text": [
      "(2960, 3)\n"
     ]
    },
    {
     "data": {
      "text/html": [
       "<div>\n",
       "<style scoped>\n",
       "    .dataframe tbody tr th:only-of-type {\n",
       "        vertical-align: middle;\n",
       "    }\n",
       "\n",
       "    .dataframe tbody tr th {\n",
       "        vertical-align: top;\n",
       "    }\n",
       "\n",
       "    .dataframe thead th {\n",
       "        text-align: right;\n",
       "    }\n",
       "</style>\n",
       "<table border=\"1\" class=\"dataframe\">\n",
       "  <thead>\n",
       "    <tr style=\"text-align: right;\">\n",
       "      <th></th>\n",
       "      <th>0</th>\n",
       "      <th>1</th>\n",
       "      <th>2</th>\n",
       "    </tr>\n",
       "    <tr>\n",
       "      <th>id</th>\n",
       "      <th></th>\n",
       "      <th></th>\n",
       "      <th></th>\n",
       "    </tr>\n",
       "  </thead>\n",
       "  <tbody>\n",
       "    <tr>\n",
       "      <th>38</th>\n",
       "      <td>0.331923</td>\n",
       "      <td>0.423186</td>\n",
       "      <td>0.244891</td>\n",
       "    </tr>\n",
       "    <tr>\n",
       "      <th>40</th>\n",
       "      <td>0.335251</td>\n",
       "      <td>0.403300</td>\n",
       "      <td>0.261448</td>\n",
       "    </tr>\n",
       "    <tr>\n",
       "      <th>164</th>\n",
       "      <td>0.255853</td>\n",
       "      <td>0.264907</td>\n",
       "      <td>0.479240</td>\n",
       "    </tr>\n",
       "    <tr>\n",
       "      <th>166</th>\n",
       "      <td>0.409436</td>\n",
       "      <td>0.329335</td>\n",
       "      <td>0.261229</td>\n",
       "    </tr>\n",
       "    <tr>\n",
       "      <th>281</th>\n",
       "      <td>0.378563</td>\n",
       "      <td>0.393604</td>\n",
       "      <td>0.227833</td>\n",
       "    </tr>\n",
       "  </tbody>\n",
       "</table>\n",
       "</div>"
      ],
      "text/plain": [
       "            0         1         2\n",
       "id                               \n",
       "38   0.331923  0.423186  0.244891\n",
       "40   0.335251  0.403300  0.261448\n",
       "164  0.255853  0.264907  0.479240\n",
       "166  0.409436  0.329335  0.261229\n",
       "281  0.378563  0.393604  0.227833"
      ]
     },
     "execution_count": 16,
     "metadata": {},
     "output_type": "execute_result"
    }
   ],
   "source": [
    "df_submission = pd.concat([df_submission_shoes,df_submission_without_shoes])\n",
    "print(df_submission.shape)\n",
    "df_submission.head()"
   ]
  },
  {
   "cell_type": "markdown",
   "metadata": {},
   "source": [
    "### Model 7"
   ]
  },
  {
   "cell_type": "markdown",
   "metadata": {},
   "source": [
    "##### clf_shoes"
   ]
  },
  {
   "cell_type": "code",
   "execution_count": 21,
   "metadata": {},
   "outputs": [],
   "source": [
    "clf_shoes = get_xgb_model('shoes_model_v2')\n",
    "features_clf_shoes = ['images_count', 'image_width', 'image_height', 'year', 'condition', 'shoe_size', 'weight', 'price']\n",
    "\n",
    "X_test_shoes = X_test[~X_test.shoe_size.isnull()] # no shoes - rows\n",
    "X_test_shoes = X_test_shoes[features_clf_shoes] # no shoes column\n",
    "fix_condition(X_test_shoes)\n",
    "predicted_shoes = clf_shoes.predict_proba(X_test_shoes)\n",
    "df_submission_shoes = pd.DataFrame(predicted_shoes, index=X_test_shoes.index)"
   ]
  },
  {
   "cell_type": "markdown",
   "metadata": {},
   "source": [
    "##### clf_shoes_comp"
   ]
  },
  {
   "cell_type": "code",
   "execution_count": null,
   "metadata": {},
   "outputs": [],
   "source": [
    "clf_shoes_comp = get_xgb_model('shoes_model_comp_v3')"
   ]
  },
  {
   "cell_type": "code",
   "execution_count": null,
   "metadata": {},
   "outputs": [],
   "source": [
    "X_test_without_shoes = X_test[X_test.shoe_size.isnull()] # no shoes - rows\n",
    "X_test_without_shoes.drop(['shoe_size'],axis=1,inplace=True)"
   ]
  },
  {
   "cell_type": "code",
   "execution_count": null,
   "metadata": {},
   "outputs": [],
   "source": [
    "X_test_without_shoes['desc_wc'] = X_test_without_shoes['product_description'].apply(lambda text: len(text.split()))\n",
    "X_test_without_shoes['desc_len'] = X_test_without_shoes['product_description'].apply(len)\n",
    "X_test_without_shoes['wifi'] = pd.to_numeric(X_test_without_shoes['wifi'])\n",
    "X_test_without_shoes['vintage'] = pd.to_numeric(X_test_without_shoes['vintage'])\n",
    "X_test_without_shoes['has_desc']= X_test_without_shoes['product_description'].isnull().astype('int64')\n",
    "X_test_without_shoes['has_author'] = X_test_without_shoes['author'].isnull().astype('int64')\n",
    "X_test_without_shoes['has_editor'] = X_test_without_shoes['editor'].isnull().astype('int64')\n",
    "X_test_without_shoes['has_brand'] = X_test_without_shoes['brand'].isnull().astype('int64')\n",
    "fix_condition(X_test_without_shoes)\n"
   ]
  },
  {
   "cell_type": "code",
   "execution_count": null,
   "metadata": {},
   "outputs": [],
   "source": [
    "\n",
    "X_test_without_shoes = vectorize_tfidf(X_test_without_shoes,'product_description','prod_desc',vectorizer,\"test\")\n",
    "X_test_without_shoes['categories'] = X_test_without_shoes[categories].fillna('').apply(lambda x: ' '.join(x), axis=1)\n",
    "X_test_without_shoes = vectorize_tfidf(X_test_without_shoes,'categories','cat',vectorizer2,\"test\")\n",
    "X_test_without_shoes = X_test_without_shoes[X_train_num.columns] # no shoes column\n"
   ]
  },
  {
   "cell_type": "code",
   "execution_count": null,
   "metadata": {},
   "outputs": [],
   "source": [
    "X_test_without_shoes = X_test_without_shoes.select_dtypes(include=[np.number])\n",
    "\n",
    "predicted_without_shoes = clf_shoes_comp.predict_proba(X_test_without_shoes)\n",
    "df_submission_without_shoes = pd.DataFrame(predicted_without_shoes, index=X_test_without_shoes.index)"
   ]
  },
  {
   "cell_type": "markdown",
   "metadata": {},
   "source": [
    "### Submission"
   ]
  },
  {
   "cell_type": "code",
   "execution_count": 18,
   "metadata": {},
   "outputs": [],
   "source": [
    "submit_prediction(df_submission, sep=',', index=True)"
   ]
  },
  {
   "cell_type": "markdown",
   "metadata": {},
   "source": [
    "### functions"
   ]
  },
  {
   "cell_type": "code",
   "execution_count": 17,
   "metadata": {},
   "outputs": [],
   "source": [
    "import io, math, requests\n",
    "\n",
    "# Only works in Python3, see comment below for Python2\n",
    "def submit_prediction(df, sep=',', **kwargs):\n",
    "    # TOKEN to recover on the platform: \"Submissions\"> \"Submit from your Python Notebook\"\n",
    "    TOKEN=''  \n",
    "    URL='https://qscore.datascience-olympics.com/api/submissions'\n",
    "    #buffer = io.BytesIO() # Python 2\n",
    "    buffer = io.StringIO() # Python 3\n",
    "    df.to_csv(buffer, sep=sep, **kwargs)\n",
    "    buffer.seek(0)\n",
    "    r = requests.post(URL, headers={'Authorization': 'Bearer {}'.format(TOKEN)},files={'datafile': buffer})\n",
    "    if r.status_code == 429:\n",
    "        raise Exception('Submissions are too close. Next submission is only allowed in {} seconds.'.format(int(math.ceil(int(r.headers['x-rate-limit-remaining']) / 1000.0))))\n",
    "    if r.status_code != 200:\n",
    "        raise Exception(r.text)\n"
   ]
  },
  {
   "cell_type": "code",
   "execution_count": 10,
   "metadata": {},
   "outputs": [],
   "source": [
    "from sklearn import preprocessing\n",
    "conditions = ['vide','autre','reconditionné','comme neuf','neuf','en l\\'état','bon état']\n",
    "le = preprocessing.LabelEncoder()\n",
    "le.fit(conditions)\n",
    "\n",
    "def fix_condition(df):\n",
    "    df['condition'].fillna('vide',inplace=True)    \n",
    "    df['condition'].apply(lambda x : x if x in conditions else 'autre')\n",
    "    df['condition'] = le.transform(df['condition'])"
   ]
  },
  {
   "cell_type": "code",
   "execution_count": 22,
   "metadata": {},
   "outputs": [],
   "source": [
    "import string\n",
    "import re \n",
    "import itertools\n",
    "import nltk\n",
    "import operator\n",
    "from bs4 import BeautifulSoup             \n",
    "from nltk.corpus import stopwords\n",
    "from nltk import pos_tag\n",
    "from nltk.stem.snowball import FrenchStemmer \n",
    "\n",
    "\n",
    "def tokenizer(text, remove_stopwords=True, stemming=True, pos_tagging=False):\n",
    "        \n",
    "    # convert to lower case\n",
    "    #text = BeautifulSoup(text, \"lxml\").get_text()\n",
    "    text = text.lower()\n",
    "    \n",
    "    # remove punctuation (preserving intra-word dashes)\n",
    "    punct = string.punctuation.replace('-', '')\n",
    "    text = ''.join(l for l in text if l not in punct)\n",
    "    \n",
    "    # strip extra white space\n",
    "    text = re.sub(' +|\\n+|\\r+',' ',text)\n",
    "    # strip leading and trailing white space\n",
    "    text = text.strip()\n",
    "    # tokenize (split based on whitespace)\n",
    "    ### fill the gap ###\n",
    "    tokens = text.split()\n",
    "    \n",
    "    if remove_stopwords:\n",
    "        stpwds = stopwords.words('french')\n",
    "        # remove stopwords\n",
    "        tokens = [t for t in tokens if t not in stpwds]\n",
    "        \n",
    "    if stemming:\n",
    "        #stemming words\n",
    "        stemmed_tokens = [] #declare an empty list to hold our stemmed words\n",
    "        stemmer = FrenchStemmer() #create a stemmer object in the FrenchStemmer class\n",
    "        for token in tokens:\n",
    "            stemmed_token=stemmer.stem(token) #stem the word\n",
    "            stemmed_tokens.append(stemmed_token) #add it to our stemmed word list\n",
    "        #stemmed_tokens.sort() #sort the stemmed_words\n",
    "        tokens = stemmed_tokens\n",
    "        \n",
    "    if pos_tagging == True:\n",
    "        # apply POS-tagging\n",
    "        tagged_tokens = pos_tag(tokens)\n",
    "        # retain only nouns and adjectives\n",
    "        tokens_keep = []\n",
    "        for i in range(len(tagged_tokens)):\n",
    "            item = tagged_tokens[i]\n",
    "            if (\n",
    "            item[1] == 'NN' or\n",
    "            item[1] == 'NNS' or\n",
    "            item[1] == 'NNP' or\n",
    "            item[1] == 'NNPS' or\n",
    "            item[1] == 'JJ' or\n",
    "            item[1] == 'JJS' or\n",
    "            item[1] == 'JJR' or\n",
    "            item[1] == 'CD'\n",
    "            ):\n",
    "                tokens_keep.append(item[0])\n",
    "        tokens = tokens_keep\n",
    "    \n",
    "    return(tokens)"
   ]
  },
  {
   "cell_type": "code",
   "execution_count": 23,
   "metadata": {},
   "outputs": [],
   "source": [
    "def vectorize_tfidf(df,col,prefix,vectorizer,train_or_test):\n",
    "    if train_or_test == 'train':\n",
    "        vect = vectorizer.fit_transform(list(df[col]))\n",
    "    else:\n",
    "        vect = vectorizer.transform(list(df[col]))\n",
    "        \n",
    "    tfidf_cols= list(map(lambda x: prefix+'_'+x, vectorizer.get_feature_names()))\n",
    "    tfidf = pd.DataFrame(vect.toarray(), columns=tfidf_cols)\n",
    "    df_tfidf = pd.concat([df, tfidf], axis=1)\n",
    "    return df_tfidf"
   ]
  },
  {
   "cell_type": "code",
   "execution_count": 24,
   "metadata": {},
   "outputs": [],
   "source": [
    "from sklearn.feature_extraction.text import TfidfVectorizer\n",
    "\n",
    "# min_df is minimum number of documents that contain a term t\n",
    "# max_features is maximum number of unique tokens (across documents) that we'd consider\n",
    "# TfidfVectorizer preprocesses the descriptions using the tokenizer we defined above\n",
    "\n",
    "vectorizer = TfidfVectorizer(min_df=10, \n",
    "                             max_features=200, \n",
    "                             tokenizer=tokenizer, \n",
    "                             ngram_range=(1, 2))\n",
    "\n",
    "\n",
    "vectorizer2 = TfidfVectorizer(min_df=10, \n",
    "                             max_features=200, \n",
    "                             tokenizer=tokenizer, \n",
    "                             ngram_range=(1, 2))"
   ]
  }
 ],
 "metadata": {
  "kernelspec": {
   "display_name": "Python 3",
   "language": "python",
   "name": "python3"
  },
  "language_info": {
   "codemirror_mode": {
    "name": "ipython",
    "version": 3
   },
   "file_extension": ".py",
   "mimetype": "text/x-python",
   "name": "python",
   "nbconvert_exporter": "python",
   "pygments_lexer": "ipython3",
   "version": "3.7.1"
  }
 },
 "nbformat": 4,
 "nbformat_minor": 2
}
