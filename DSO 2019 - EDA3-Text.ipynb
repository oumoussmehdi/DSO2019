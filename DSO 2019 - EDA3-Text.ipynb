{
 "cells": [
  {
   "cell_type": "markdown",
   "metadata": {},
   "source": [
    "Label Emmaüs offers an online marketplace of products renovated or created by the Emmaus movement. Its catalog is growing steadily. Adding an product to the catalog from reception to its descriptions (images, description, warehouse) is not an automated process and takes more and more time.\n",
    "\n",
    "Finding a price and writing a description are not simple. It takes a lot time and experience to describe an item. Adding a product takes at least 40 minutes to go online. Many products stay on the site for a long time before finding a buyer. And increasing the catalog requires more and more storage space, which is not always available.\n",
    "\n",
    "To the question \"why my products do not sell\", Label Emmaüs does not know the answer (except by the feeling of profession).\n",
    "\n",
    "**The goal is to predict the duration between placing an object online and selling it.**\n",
    "\n",
    "The data contains about 10,000 objects (with description, price, category, etc.). \n",
    "The duration is only known for a subset of products (the learning base).\n",
    "\n",
    "It will be necessary to predict the duration for the products of the base of tests.\n",
    "\n",
    "The target is categorized into 3 categories:\n",
    "- 0 : between 0 and 10 days\n",
    "- 1 : between 10 days and 60 days\n",
    "- 2 : more than 60 days"
   ]
  },
  {
   "cell_type": "markdown",
   "metadata": {},
   "source": [
    "# Python Tutorial - DSO 2019 Training\n",
    "\n",
    "This tutorial is intended to guide people wishing to use Python to participate in the challenge.\n",
    "\n",
    "It has 5 steps:\n",
    "\n",
    "1. Importing data\n",
    "2. Descriptive analysis\n",
    "3. Data Preparation\n",
    "4. Creating a template\n",
    "5. Calculation of predictions and submissions\n",
    "\n",
    "# Data Import\n",
    "\n",
    "Let's install the necessary packages for this tutorial:"
   ]
  },
  {
   "cell_type": "code",
   "execution_count": 1,
   "metadata": {},
   "outputs": [],
   "source": [
    "from sklearn import preprocessing\n"
   ]
  },
  {
   "cell_type": "code",
   "execution_count": 2,
   "metadata": {},
   "outputs": [
    {
     "name": "stderr",
     "output_type": "stream",
     "text": [
      "b'Skipping line 2168: expected 31 fields, saw 33\\nSkipping line 4822: expected 31 fields, saw 37\\nSkipping line 4859: expected 31 fields, saw 37\\nSkipping line 7342: expected 31 fields, saw 37\\n'\n"
     ]
    },
    {
     "data": {
      "text/html": [
       "<div>\n",
       "<style scoped>\n",
       "    .dataframe tbody tr th:only-of-type {\n",
       "        vertical-align: middle;\n",
       "    }\n",
       "\n",
       "    .dataframe tbody tr th {\n",
       "        vertical-align: top;\n",
       "    }\n",
       "\n",
       "    .dataframe thead th {\n",
       "        text-align: right;\n",
       "    }\n",
       "</style>\n",
       "<table border=\"1\" class=\"dataframe\">\n",
       "  <thead>\n",
       "    <tr style=\"text-align: right;\">\n",
       "      <th></th>\n",
       "      <th>images_count</th>\n",
       "      <th>image_width</th>\n",
       "      <th>image_height</th>\n",
       "      <th>image_url</th>\n",
       "      <th>product_description</th>\n",
       "      <th>product_size</th>\n",
       "      <th>material</th>\n",
       "      <th>age</th>\n",
       "      <th>warranty</th>\n",
       "      <th>year</th>\n",
       "      <th>color</th>\n",
       "      <th>product_width</th>\n",
       "      <th>wifi</th>\n",
       "      <th>condition</th>\n",
       "      <th>product_length</th>\n",
       "      <th>shoe_size</th>\n",
       "      <th>vintage</th>\n",
       "      <th>brand</th>\n",
       "      <th>author</th>\n",
       "      <th>editor</th>\n",
       "      <th>product_height</th>\n",
       "      <th>weight</th>\n",
       "      <th>price</th>\n",
       "      <th>category</th>\n",
       "      <th>sub_category_1</th>\n",
       "      <th>sub_category_2</th>\n",
       "      <th>sub_category_3</th>\n",
       "      <th>sub_category_4</th>\n",
       "      <th>product_name</th>\n",
       "      <th>store_name</th>\n",
       "    </tr>\n",
       "    <tr>\n",
       "      <th>id</th>\n",
       "      <th></th>\n",
       "      <th></th>\n",
       "      <th></th>\n",
       "      <th></th>\n",
       "      <th></th>\n",
       "      <th></th>\n",
       "      <th></th>\n",
       "      <th></th>\n",
       "      <th></th>\n",
       "      <th></th>\n",
       "      <th></th>\n",
       "      <th></th>\n",
       "      <th></th>\n",
       "      <th></th>\n",
       "      <th></th>\n",
       "      <th></th>\n",
       "      <th></th>\n",
       "      <th></th>\n",
       "      <th></th>\n",
       "      <th></th>\n",
       "      <th></th>\n",
       "      <th></th>\n",
       "      <th></th>\n",
       "      <th></th>\n",
       "      <th></th>\n",
       "      <th></th>\n",
       "      <th></th>\n",
       "      <th></th>\n",
       "      <th></th>\n",
       "      <th></th>\n",
       "    </tr>\n",
       "  </thead>\n",
       "  <tbody>\n",
       "    <tr>\n",
       "      <th>0</th>\n",
       "      <td>3</td>\n",
       "      <td>3458.0</td>\n",
       "      <td>2552.0</td>\n",
       "      <td>https://d1kvfoyrif6wzg.cloudfront.net/assets/i...</td>\n",
       "      <td>Superbe petit top bustier avec explosion de co...</td>\n",
       "      <td>44</td>\n",
       "      <td>100 % polyester</td>\n",
       "      <td>NaN</td>\n",
       "      <td>NaN</td>\n",
       "      <td>NaN</td>\n",
       "      <td>Multicolore</td>\n",
       "      <td>NaN</td>\n",
       "      <td>NaN</td>\n",
       "      <td>bon état</td>\n",
       "      <td>NaN</td>\n",
       "      <td>NaN</td>\n",
       "      <td>False</td>\n",
       "      <td>NaN</td>\n",
       "      <td>NaN</td>\n",
       "      <td>NaN</td>\n",
       "      <td>NaN</td>\n",
       "      <td>200.0</td>\n",
       "      <td>4.5</td>\n",
       "      <td>mode</td>\n",
       "      <td>tops, t-shirts, débardeurs femme</td>\n",
       "      <td>NaN</td>\n",
       "      <td>NaN</td>\n",
       "      <td>NaN</td>\n",
       "      <td>Top bustier multicolore</td>\n",
       "      <td>Emmaüs 88 Neufchateau</td>\n",
       "    </tr>\n",
       "    <tr>\n",
       "      <th>1</th>\n",
       "      <td>2</td>\n",
       "      <td>2486.0</td>\n",
       "      <td>2254.0</td>\n",
       "      <td>https://d1kvfoyrif6wzg.cloudfront.net/assets/i...</td>\n",
       "      <td>Radio ITT Océnic Flirt, année 70\\nPour déco</td>\n",
       "      <td>NaN</td>\n",
       "      <td>Plastique</td>\n",
       "      <td>NaN</td>\n",
       "      <td>NaN</td>\n",
       "      <td>NaN</td>\n",
       "      <td>Jaune</td>\n",
       "      <td>NaN</td>\n",
       "      <td>NaN</td>\n",
       "      <td>en l'état</td>\n",
       "      <td>NaN</td>\n",
       "      <td>NaN</td>\n",
       "      <td>True</td>\n",
       "      <td>ITT Océanic</td>\n",
       "      <td>NaN</td>\n",
       "      <td>NaN</td>\n",
       "      <td>NaN</td>\n",
       "      <td>1000.0</td>\n",
       "      <td>15.0</td>\n",
       "      <td>mobilier - deco</td>\n",
       "      <td>bibelots et objets déco</td>\n",
       "      <td>NaN</td>\n",
       "      <td>NaN</td>\n",
       "      <td>NaN</td>\n",
       "      <td>Radio ITT Océanic</td>\n",
       "      <td>Communauté Emmaüs Thouars (magasin Parthenay)</td>\n",
       "    </tr>\n",
       "    <tr>\n",
       "      <th>2</th>\n",
       "      <td>3</td>\n",
       "      <td>1536.0</td>\n",
       "      <td>1536.0</td>\n",
       "      <td>https://d1kvfoyrif6wzg.cloudfront.net/assets/i...</td>\n",
       "      <td>Veste boléro à manches courtes NÛMPH. Gris chi...</td>\n",
       "      <td>40</td>\n",
       "      <td>Polyester, coton, laine</td>\n",
       "      <td>NaN</td>\n",
       "      <td>NaN</td>\n",
       "      <td>NaN</td>\n",
       "      <td>Gris</td>\n",
       "      <td>NaN</td>\n",
       "      <td>NaN</td>\n",
       "      <td>neuf</td>\n",
       "      <td>NaN</td>\n",
       "      <td>NaN</td>\n",
       "      <td>False</td>\n",
       "      <td>Nûmph</td>\n",
       "      <td>NaN</td>\n",
       "      <td>NaN</td>\n",
       "      <td>NaN</td>\n",
       "      <td>360.0</td>\n",
       "      <td>16.0</td>\n",
       "      <td>label selection</td>\n",
       "      <td>mode</td>\n",
       "      <td>mode femme</td>\n",
       "      <td>NaN</td>\n",
       "      <td>NaN</td>\n",
       "      <td>NaN</td>\n",
       "      <td>Label Emmaüs Chambéry</td>\n",
       "    </tr>\n",
       "  </tbody>\n",
       "</table>\n",
       "</div>"
      ],
      "text/plain": [
       "    images_count  image_width  image_height  \\\n",
       "id                                            \n",
       "0              3       3458.0        2552.0   \n",
       "1              2       2486.0        2254.0   \n",
       "2              3       1536.0        1536.0   \n",
       "\n",
       "                                            image_url  \\\n",
       "id                                                      \n",
       "0   https://d1kvfoyrif6wzg.cloudfront.net/assets/i...   \n",
       "1   https://d1kvfoyrif6wzg.cloudfront.net/assets/i...   \n",
       "2   https://d1kvfoyrif6wzg.cloudfront.net/assets/i...   \n",
       "\n",
       "                                  product_description product_size  \\\n",
       "id                                                                   \n",
       "0   Superbe petit top bustier avec explosion de co...           44   \n",
       "1         Radio ITT Océnic Flirt, année 70\\nPour déco          NaN   \n",
       "2   Veste boléro à manches courtes NÛMPH. Gris chi...           40   \n",
       "\n",
       "                   material  age warranty  year        color  product_width  \\\n",
       "id                                                                            \n",
       "0          100 % polyester   NaN      NaN   NaN  Multicolore            NaN   \n",
       "1                 Plastique  NaN      NaN   NaN        Jaune            NaN   \n",
       "2   Polyester, coton, laine  NaN      NaN   NaN         Gris            NaN   \n",
       "\n",
       "   wifi  condition  product_length  shoe_size vintage        brand author  \\\n",
       "id                                                                          \n",
       "0   NaN   bon état             NaN        NaN   False          NaN    NaN   \n",
       "1   NaN  en l'état             NaN        NaN    True  ITT Océanic    NaN   \n",
       "2   NaN       neuf             NaN        NaN   False        Nûmph    NaN   \n",
       "\n",
       "   editor  product_height  weight  price         category  \\\n",
       "id                                                          \n",
       "0     NaN             NaN   200.0    4.5             mode   \n",
       "1     NaN             NaN  1000.0   15.0  mobilier - deco   \n",
       "2     NaN             NaN   360.0   16.0  label selection   \n",
       "\n",
       "                      sub_category_1 sub_category_2 sub_category_3  \\\n",
       "id                                                                   \n",
       "0   tops, t-shirts, débardeurs femme            NaN            NaN   \n",
       "1            bibelots et objets déco            NaN            NaN   \n",
       "2                               mode     mode femme            NaN   \n",
       "\n",
       "   sub_category_4              product_name  \\\n",
       "id                                            \n",
       "0             NaN  Top bustier multicolore    \n",
       "1             NaN         Radio ITT Océanic   \n",
       "2             NaN                       NaN   \n",
       "\n",
       "                                       store_name  \n",
       "id                                                 \n",
       "0                           Emmaüs 88 Neufchateau  \n",
       "1   Communauté Emmaüs Thouars (magasin Parthenay)  \n",
       "2                           Label Emmaüs Chambéry  "
      ]
     },
     "execution_count": 2,
     "metadata": {},
     "output_type": "execute_result"
    }
   ],
   "source": [
    "import pandas as pd\n",
    "import numpy as np\n",
    "import matplotlib.pyplot as plt\n",
    "%matplotlib inline \n",
    "pd.set_option('display.max_columns', 500)\n",
    "\n",
    "X_train = pd.read_csv(\"data/X_train.csv\", index_col=0, error_bad_lines=False)\n",
    "X_test = pd.read_csv(\"data/X_test.csv\", index_col=0, error_bad_lines=False)\n",
    "y_train = pd.read_csv(\"data/y_train.csv\", index_col=0)\n",
    "X_train.head(3)"
   ]
  },
  {
   "cell_type": "code",
   "execution_count": 3,
   "metadata": {},
   "outputs": [
    {
     "name": "stdout",
     "output_type": "stream",
     "text": [
      "Dimension X_train: (8880, 30)\n",
      "Dimension X_test: (2960, 30)\n"
     ]
    }
   ],
   "source": [
    "print(\"Dimension X_train:\", X_train.shape)\n",
    "print(\"Dimension X_test:\", X_test.shape)"
   ]
  },
  {
   "cell_type": "code",
   "execution_count": 5,
   "metadata": {},
   "outputs": [
    {
     "data": {
      "text/html": [
       "<div>\n",
       "<style scoped>\n",
       "    .dataframe tbody tr th:only-of-type {\n",
       "        vertical-align: middle;\n",
       "    }\n",
       "\n",
       "    .dataframe tbody tr th {\n",
       "        vertical-align: top;\n",
       "    }\n",
       "\n",
       "    .dataframe thead th {\n",
       "        text-align: right;\n",
       "    }\n",
       "</style>\n",
       "<table border=\"1\" class=\"dataframe\">\n",
       "  <thead>\n",
       "    <tr style=\"text-align: right;\">\n",
       "      <th></th>\n",
       "      <th>images_count</th>\n",
       "      <th>image_width</th>\n",
       "      <th>image_height</th>\n",
       "      <th>image_url</th>\n",
       "      <th>product_description</th>\n",
       "      <th>product_size</th>\n",
       "      <th>material</th>\n",
       "      <th>age</th>\n",
       "      <th>warranty</th>\n",
       "      <th>year</th>\n",
       "      <th>color</th>\n",
       "      <th>product_width</th>\n",
       "      <th>wifi</th>\n",
       "      <th>condition</th>\n",
       "      <th>product_length</th>\n",
       "      <th>shoe_size</th>\n",
       "      <th>vintage</th>\n",
       "      <th>brand</th>\n",
       "      <th>author</th>\n",
       "      <th>editor</th>\n",
       "      <th>product_height</th>\n",
       "      <th>weight</th>\n",
       "      <th>price</th>\n",
       "      <th>category</th>\n",
       "      <th>sub_category_1</th>\n",
       "      <th>sub_category_2</th>\n",
       "      <th>sub_category_3</th>\n",
       "      <th>sub_category_4</th>\n",
       "      <th>product_name</th>\n",
       "      <th>store_name</th>\n",
       "      <th>duration</th>\n",
       "    </tr>\n",
       "    <tr>\n",
       "      <th>id</th>\n",
       "      <th></th>\n",
       "      <th></th>\n",
       "      <th></th>\n",
       "      <th></th>\n",
       "      <th></th>\n",
       "      <th></th>\n",
       "      <th></th>\n",
       "      <th></th>\n",
       "      <th></th>\n",
       "      <th></th>\n",
       "      <th></th>\n",
       "      <th></th>\n",
       "      <th></th>\n",
       "      <th></th>\n",
       "      <th></th>\n",
       "      <th></th>\n",
       "      <th></th>\n",
       "      <th></th>\n",
       "      <th></th>\n",
       "      <th></th>\n",
       "      <th></th>\n",
       "      <th></th>\n",
       "      <th></th>\n",
       "      <th></th>\n",
       "      <th></th>\n",
       "      <th></th>\n",
       "      <th></th>\n",
       "      <th></th>\n",
       "      <th></th>\n",
       "      <th></th>\n",
       "      <th></th>\n",
       "    </tr>\n",
       "  </thead>\n",
       "  <tbody>\n",
       "    <tr>\n",
       "      <th>0</th>\n",
       "      <td>3</td>\n",
       "      <td>3458.0</td>\n",
       "      <td>2552.0</td>\n",
       "      <td>https://d1kvfoyrif6wzg.cloudfront.net/assets/i...</td>\n",
       "      <td>Superbe petit top bustier avec explosion de co...</td>\n",
       "      <td>44</td>\n",
       "      <td>100 % polyester</td>\n",
       "      <td>NaN</td>\n",
       "      <td>NaN</td>\n",
       "      <td>NaN</td>\n",
       "      <td>Multicolore</td>\n",
       "      <td>NaN</td>\n",
       "      <td>NaN</td>\n",
       "      <td>bon état</td>\n",
       "      <td>NaN</td>\n",
       "      <td>NaN</td>\n",
       "      <td>False</td>\n",
       "      <td>NaN</td>\n",
       "      <td>NaN</td>\n",
       "      <td>NaN</td>\n",
       "      <td>NaN</td>\n",
       "      <td>200.0</td>\n",
       "      <td>4.5</td>\n",
       "      <td>mode</td>\n",
       "      <td>tops, t-shirts, débardeurs femme</td>\n",
       "      <td>NaN</td>\n",
       "      <td>NaN</td>\n",
       "      <td>NaN</td>\n",
       "      <td>Top bustier multicolore</td>\n",
       "      <td>Emmaüs 88 Neufchateau</td>\n",
       "      <td>2</td>\n",
       "    </tr>\n",
       "    <tr>\n",
       "      <th>1</th>\n",
       "      <td>2</td>\n",
       "      <td>2486.0</td>\n",
       "      <td>2254.0</td>\n",
       "      <td>https://d1kvfoyrif6wzg.cloudfront.net/assets/i...</td>\n",
       "      <td>Radio ITT Océnic Flirt, année 70\\nPour déco</td>\n",
       "      <td>NaN</td>\n",
       "      <td>Plastique</td>\n",
       "      <td>NaN</td>\n",
       "      <td>NaN</td>\n",
       "      <td>NaN</td>\n",
       "      <td>Jaune</td>\n",
       "      <td>NaN</td>\n",
       "      <td>NaN</td>\n",
       "      <td>en l'état</td>\n",
       "      <td>NaN</td>\n",
       "      <td>NaN</td>\n",
       "      <td>True</td>\n",
       "      <td>ITT Océanic</td>\n",
       "      <td>NaN</td>\n",
       "      <td>NaN</td>\n",
       "      <td>NaN</td>\n",
       "      <td>1000.0</td>\n",
       "      <td>15.0</td>\n",
       "      <td>mobilier - deco</td>\n",
       "      <td>bibelots et objets déco</td>\n",
       "      <td>NaN</td>\n",
       "      <td>NaN</td>\n",
       "      <td>NaN</td>\n",
       "      <td>Radio ITT Océanic</td>\n",
       "      <td>Communauté Emmaüs Thouars (magasin Parthenay)</td>\n",
       "      <td>1</td>\n",
       "    </tr>\n",
       "    <tr>\n",
       "      <th>2</th>\n",
       "      <td>3</td>\n",
       "      <td>1536.0</td>\n",
       "      <td>1536.0</td>\n",
       "      <td>https://d1kvfoyrif6wzg.cloudfront.net/assets/i...</td>\n",
       "      <td>Veste boléro à manches courtes NÛMPH. Gris chi...</td>\n",
       "      <td>40</td>\n",
       "      <td>Polyester, coton, laine</td>\n",
       "      <td>NaN</td>\n",
       "      <td>NaN</td>\n",
       "      <td>NaN</td>\n",
       "      <td>Gris</td>\n",
       "      <td>NaN</td>\n",
       "      <td>NaN</td>\n",
       "      <td>neuf</td>\n",
       "      <td>NaN</td>\n",
       "      <td>NaN</td>\n",
       "      <td>False</td>\n",
       "      <td>Nûmph</td>\n",
       "      <td>NaN</td>\n",
       "      <td>NaN</td>\n",
       "      <td>NaN</td>\n",
       "      <td>360.0</td>\n",
       "      <td>16.0</td>\n",
       "      <td>label selection</td>\n",
       "      <td>mode</td>\n",
       "      <td>mode femme</td>\n",
       "      <td>NaN</td>\n",
       "      <td>NaN</td>\n",
       "      <td>NaN</td>\n",
       "      <td>Label Emmaüs Chambéry</td>\n",
       "      <td>1</td>\n",
       "    </tr>\n",
       "    <tr>\n",
       "      <th>3</th>\n",
       "      <td>2</td>\n",
       "      <td>1100.0</td>\n",
       "      <td>1100.0</td>\n",
       "      <td>https://d1kvfoyrif6wzg.cloudfront.net/assets/i...</td>\n",
       "      <td>Encrier plumier en verre.  De forme carrée le ...</td>\n",
       "      <td>NaN</td>\n",
       "      <td>NaN</td>\n",
       "      <td>NaN</td>\n",
       "      <td>NaN</td>\n",
       "      <td>NaN</td>\n",
       "      <td>NaN</td>\n",
       "      <td>NaN</td>\n",
       "      <td>NaN</td>\n",
       "      <td>bon état</td>\n",
       "      <td>NaN</td>\n",
       "      <td>NaN</td>\n",
       "      <td>NaN</td>\n",
       "      <td>NaN</td>\n",
       "      <td>NaN</td>\n",
       "      <td>NaN</td>\n",
       "      <td>NaN</td>\n",
       "      <td>520.0</td>\n",
       "      <td>24.0</td>\n",
       "      <td>mobilier - deco</td>\n",
       "      <td>autres objets</td>\n",
       "      <td>NaN</td>\n",
       "      <td>NaN</td>\n",
       "      <td>NaN</td>\n",
       "      <td>Encrier Plumier en verre</td>\n",
       "      <td>Emmaüs Lyon</td>\n",
       "      <td>1</td>\n",
       "    </tr>\n",
       "    <tr>\n",
       "      <th>4</th>\n",
       "      <td>2</td>\n",
       "      <td>450.0</td>\n",
       "      <td>450.0</td>\n",
       "      <td>https://d1kvfoyrif6wzg.cloudfront.net/assets/i...</td>\n",
       "      <td>Si vous souhaitez acquérir un appareil puissan...</td>\n",
       "      <td>NaN</td>\n",
       "      <td>NaN</td>\n",
       "      <td>NaN</td>\n",
       "      <td>6 mois</td>\n",
       "      <td>NaN</td>\n",
       "      <td>Blanc</td>\n",
       "      <td>NaN</td>\n",
       "      <td>True</td>\n",
       "      <td>reconditionné</td>\n",
       "      <td>NaN</td>\n",
       "      <td>NaN</td>\n",
       "      <td>NaN</td>\n",
       "      <td>NaN</td>\n",
       "      <td>NaN</td>\n",
       "      <td>NaN</td>\n",
       "      <td>NaN</td>\n",
       "      <td>300.0</td>\n",
       "      <td>139.0</td>\n",
       "      <td>multimédia</td>\n",
       "      <td>smartphones</td>\n",
       "      <td>NaN</td>\n",
       "      <td>NaN</td>\n",
       "      <td>NaN</td>\n",
       "      <td>HUAWEI Honor 5X Blanc - Débloqué - Très bon état.</td>\n",
       "      <td>La Bootique des Ateliers du Bocage</td>\n",
       "      <td>0</td>\n",
       "    </tr>\n",
       "  </tbody>\n",
       "</table>\n",
       "</div>"
      ],
      "text/plain": [
       "    images_count  image_width  image_height  \\\n",
       "id                                            \n",
       "0              3       3458.0        2552.0   \n",
       "1              2       2486.0        2254.0   \n",
       "2              3       1536.0        1536.0   \n",
       "3              2       1100.0        1100.0   \n",
       "4              2        450.0         450.0   \n",
       "\n",
       "                                            image_url  \\\n",
       "id                                                      \n",
       "0   https://d1kvfoyrif6wzg.cloudfront.net/assets/i...   \n",
       "1   https://d1kvfoyrif6wzg.cloudfront.net/assets/i...   \n",
       "2   https://d1kvfoyrif6wzg.cloudfront.net/assets/i...   \n",
       "3   https://d1kvfoyrif6wzg.cloudfront.net/assets/i...   \n",
       "4   https://d1kvfoyrif6wzg.cloudfront.net/assets/i...   \n",
       "\n",
       "                                  product_description product_size  \\\n",
       "id                                                                   \n",
       "0   Superbe petit top bustier avec explosion de co...           44   \n",
       "1         Radio ITT Océnic Flirt, année 70\\nPour déco          NaN   \n",
       "2   Veste boléro à manches courtes NÛMPH. Gris chi...           40   \n",
       "3   Encrier plumier en verre.  De forme carrée le ...          NaN   \n",
       "4   Si vous souhaitez acquérir un appareil puissan...          NaN   \n",
       "\n",
       "                   material  age warranty  year        color  product_width  \\\n",
       "id                                                                            \n",
       "0          100 % polyester   NaN      NaN   NaN  Multicolore            NaN   \n",
       "1                 Plastique  NaN      NaN   NaN        Jaune            NaN   \n",
       "2   Polyester, coton, laine  NaN      NaN   NaN         Gris            NaN   \n",
       "3                       NaN  NaN      NaN   NaN          NaN            NaN   \n",
       "4                       NaN  NaN   6 mois   NaN        Blanc            NaN   \n",
       "\n",
       "    wifi      condition  product_length  shoe_size vintage        brand  \\\n",
       "id                                                                        \n",
       "0    NaN       bon état             NaN        NaN   False          NaN   \n",
       "1    NaN      en l'état             NaN        NaN    True  ITT Océanic   \n",
       "2    NaN           neuf             NaN        NaN   False        Nûmph   \n",
       "3    NaN       bon état             NaN        NaN     NaN          NaN   \n",
       "4   True  reconditionné             NaN        NaN     NaN          NaN   \n",
       "\n",
       "   author editor  product_height  weight  price         category  \\\n",
       "id                                                                 \n",
       "0     NaN    NaN             NaN   200.0    4.5             mode   \n",
       "1     NaN    NaN             NaN  1000.0   15.0  mobilier - deco   \n",
       "2     NaN    NaN             NaN   360.0   16.0  label selection   \n",
       "3     NaN    NaN             NaN   520.0   24.0  mobilier - deco   \n",
       "4     NaN    NaN             NaN   300.0  139.0       multimédia   \n",
       "\n",
       "                      sub_category_1 sub_category_2 sub_category_3  \\\n",
       "id                                                                   \n",
       "0   tops, t-shirts, débardeurs femme            NaN            NaN   \n",
       "1            bibelots et objets déco            NaN            NaN   \n",
       "2                               mode     mode femme            NaN   \n",
       "3                      autres objets            NaN            NaN   \n",
       "4                        smartphones            NaN            NaN   \n",
       "\n",
       "   sub_category_4                                       product_name  \\\n",
       "id                                                                     \n",
       "0             NaN                           Top bustier multicolore    \n",
       "1             NaN                                  Radio ITT Océanic   \n",
       "2             NaN                                                NaN   \n",
       "3             NaN                           Encrier Plumier en verre   \n",
       "4             NaN  HUAWEI Honor 5X Blanc - Débloqué - Très bon état.   \n",
       "\n",
       "                                       store_name  duration  \n",
       "id                                                           \n",
       "0                           Emmaüs 88 Neufchateau         2  \n",
       "1   Communauté Emmaüs Thouars (magasin Parthenay)         1  \n",
       "2                           Label Emmaüs Chambéry         1  \n",
       "3                                     Emmaüs Lyon         1  \n",
       "4              La Bootique des Ateliers du Bocage         0  "
      ]
     },
     "execution_count": 5,
     "metadata": {},
     "output_type": "execute_result"
    }
   ],
   "source": [
    "df = pd.concat([X_train,y_train], axis=1)\n",
    "df.head()"
   ]
  },
  {
   "cell_type": "code",
   "execution_count": 4,
   "metadata": {},
   "outputs": [
    {
     "data": {
      "text/plain": [
       "(11840, 30)"
      ]
     },
     "execution_count": 4,
     "metadata": {},
     "output_type": "execute_result"
    }
   ],
   "source": [
    "df_all = pd.concat([X_train,X_test], axis=0)\n",
    "df_all.shape"
   ]
  },
  {
   "cell_type": "code",
   "execution_count": 20,
   "metadata": {
    "scrolled": true
   },
   "outputs": [
    {
     "data": {
      "text/html": [
       "<div>\n",
       "<style scoped>\n",
       "    .dataframe tbody tr th:only-of-type {\n",
       "        vertical-align: middle;\n",
       "    }\n",
       "\n",
       "    .dataframe tbody tr th {\n",
       "        vertical-align: top;\n",
       "    }\n",
       "\n",
       "    .dataframe thead th {\n",
       "        text-align: right;\n",
       "    }\n",
       "</style>\n",
       "<table border=\"1\" class=\"dataframe\">\n",
       "  <thead>\n",
       "    <tr style=\"text-align: right;\">\n",
       "      <th></th>\n",
       "      <th>count</th>\n",
       "      <th>unique</th>\n",
       "      <th>top</th>\n",
       "      <th>freq</th>\n",
       "      <th>mean</th>\n",
       "      <th>std</th>\n",
       "      <th>min</th>\n",
       "      <th>25%</th>\n",
       "      <th>50%</th>\n",
       "      <th>75%</th>\n",
       "      <th>max</th>\n",
       "    </tr>\n",
       "  </thead>\n",
       "  <tbody>\n",
       "    <tr>\n",
       "      <th>images_count</th>\n",
       "      <td>11840</td>\n",
       "      <td>NaN</td>\n",
       "      <td>NaN</td>\n",
       "      <td>NaN</td>\n",
       "      <td>3.65465</td>\n",
       "      <td>2.05784</td>\n",
       "      <td>0</td>\n",
       "      <td>2</td>\n",
       "      <td>3</td>\n",
       "      <td>5</td>\n",
       "      <td>29</td>\n",
       "    </tr>\n",
       "    <tr>\n",
       "      <th>image_width</th>\n",
       "      <td>11770</td>\n",
       "      <td>NaN</td>\n",
       "      <td>NaN</td>\n",
       "      <td>NaN</td>\n",
       "      <td>1804.89</td>\n",
       "      <td>1021.47</td>\n",
       "      <td>58</td>\n",
       "      <td>1000</td>\n",
       "      <td>1536</td>\n",
       "      <td>2448</td>\n",
       "      <td>5472</td>\n",
       "    </tr>\n",
       "    <tr>\n",
       "      <th>image_height</th>\n",
       "      <td>11770</td>\n",
       "      <td>NaN</td>\n",
       "      <td>NaN</td>\n",
       "      <td>NaN</td>\n",
       "      <td>1800.66</td>\n",
       "      <td>1103.08</td>\n",
       "      <td>64</td>\n",
       "      <td>962.75</td>\n",
       "      <td>1536</td>\n",
       "      <td>2448</td>\n",
       "      <td>6016</td>\n",
       "    </tr>\n",
       "    <tr>\n",
       "      <th>image_url</th>\n",
       "      <td>11770</td>\n",
       "      <td>11681</td>\n",
       "      <td>https://d1kvfoyrif6wzg.cloudfront.net/assets/i...</td>\n",
       "      <td>5</td>\n",
       "      <td>NaN</td>\n",
       "      <td>NaN</td>\n",
       "      <td>NaN</td>\n",
       "      <td>NaN</td>\n",
       "      <td>NaN</td>\n",
       "      <td>NaN</td>\n",
       "      <td>NaN</td>\n",
       "    </tr>\n",
       "    <tr>\n",
       "      <th>product_description</th>\n",
       "      <td>11840</td>\n",
       "      <td>11768</td>\n",
       "      <td>&lt;br&gt;Fabriqué à par les artisans-apprenants d'E...</td>\n",
       "      <td>8</td>\n",
       "      <td>NaN</td>\n",
       "      <td>NaN</td>\n",
       "      <td>NaN</td>\n",
       "      <td>NaN</td>\n",
       "      <td>NaN</td>\n",
       "      <td>NaN</td>\n",
       "      <td>NaN</td>\n",
       "    </tr>\n",
       "    <tr>\n",
       "      <th>product_size</th>\n",
       "      <td>3232</td>\n",
       "      <td>33</td>\n",
       "      <td>38</td>\n",
       "      <td>524</td>\n",
       "      <td>NaN</td>\n",
       "      <td>NaN</td>\n",
       "      <td>NaN</td>\n",
       "      <td>NaN</td>\n",
       "      <td>NaN</td>\n",
       "      <td>NaN</td>\n",
       "      <td>NaN</td>\n",
       "    </tr>\n",
       "    <tr>\n",
       "      <th>material</th>\n",
       "      <td>5252</td>\n",
       "      <td>2174</td>\n",
       "      <td>Coton</td>\n",
       "      <td>202</td>\n",
       "      <td>NaN</td>\n",
       "      <td>NaN</td>\n",
       "      <td>NaN</td>\n",
       "      <td>NaN</td>\n",
       "      <td>NaN</td>\n",
       "      <td>NaN</td>\n",
       "      <td>NaN</td>\n",
       "    </tr>\n",
       "    <tr>\n",
       "      <th>age</th>\n",
       "      <td>168</td>\n",
       "      <td>18</td>\n",
       "      <td>4a</td>\n",
       "      <td>19</td>\n",
       "      <td>NaN</td>\n",
       "      <td>NaN</td>\n",
       "      <td>NaN</td>\n",
       "      <td>NaN</td>\n",
       "      <td>NaN</td>\n",
       "      <td>NaN</td>\n",
       "      <td>NaN</td>\n",
       "    </tr>\n",
       "    <tr>\n",
       "      <th>warranty</th>\n",
       "      <td>127</td>\n",
       "      <td>2</td>\n",
       "      <td>6 mois</td>\n",
       "      <td>126</td>\n",
       "      <td>NaN</td>\n",
       "      <td>NaN</td>\n",
       "      <td>NaN</td>\n",
       "      <td>NaN</td>\n",
       "      <td>NaN</td>\n",
       "      <td>NaN</td>\n",
       "      <td>NaN</td>\n",
       "    </tr>\n",
       "    <tr>\n",
       "      <th>year</th>\n",
       "      <td>1983</td>\n",
       "      <td>NaN</td>\n",
       "      <td>NaN</td>\n",
       "      <td>NaN</td>\n",
       "      <td>11667</td>\n",
       "      <td>431160</td>\n",
       "      <td>0</td>\n",
       "      <td>1979</td>\n",
       "      <td>1998</td>\n",
       "      <td>2007</td>\n",
       "      <td>1.92019e+07</td>\n",
       "    </tr>\n",
       "    <tr>\n",
       "      <th>color</th>\n",
       "      <td>7062</td>\n",
       "      <td>18</td>\n",
       "      <td>Multicolore</td>\n",
       "      <td>1425</td>\n",
       "      <td>NaN</td>\n",
       "      <td>NaN</td>\n",
       "      <td>NaN</td>\n",
       "      <td>NaN</td>\n",
       "      <td>NaN</td>\n",
       "      <td>NaN</td>\n",
       "      <td>NaN</td>\n",
       "    </tr>\n",
       "    <tr>\n",
       "      <th>product_width</th>\n",
       "      <td>153</td>\n",
       "      <td>NaN</td>\n",
       "      <td>NaN</td>\n",
       "      <td>NaN</td>\n",
       "      <td>45.7928</td>\n",
       "      <td>28.4373</td>\n",
       "      <td>10</td>\n",
       "      <td>30</td>\n",
       "      <td>40</td>\n",
       "      <td>50</td>\n",
       "      <td>180</td>\n",
       "    </tr>\n",
       "    <tr>\n",
       "      <th>wifi</th>\n",
       "      <td>101</td>\n",
       "      <td>2</td>\n",
       "      <td>True</td>\n",
       "      <td>78</td>\n",
       "      <td>NaN</td>\n",
       "      <td>NaN</td>\n",
       "      <td>NaN</td>\n",
       "      <td>NaN</td>\n",
       "      <td>NaN</td>\n",
       "      <td>NaN</td>\n",
       "      <td>NaN</td>\n",
       "    </tr>\n",
       "    <tr>\n",
       "      <th>condition</th>\n",
       "      <td>11813</td>\n",
       "      <td>5</td>\n",
       "      <td>bon état</td>\n",
       "      <td>6049</td>\n",
       "      <td>NaN</td>\n",
       "      <td>NaN</td>\n",
       "      <td>NaN</td>\n",
       "      <td>NaN</td>\n",
       "      <td>NaN</td>\n",
       "      <td>NaN</td>\n",
       "      <td>NaN</td>\n",
       "    </tr>\n",
       "    <tr>\n",
       "      <th>product_length</th>\n",
       "      <td>131</td>\n",
       "      <td>NaN</td>\n",
       "      <td>NaN</td>\n",
       "      <td>NaN</td>\n",
       "      <td>67.487</td>\n",
       "      <td>41.7444</td>\n",
       "      <td>23</td>\n",
       "      <td>35</td>\n",
       "      <td>50</td>\n",
       "      <td>80</td>\n",
       "      <td>250</td>\n",
       "    </tr>\n",
       "    <tr>\n",
       "      <th>shoe_size</th>\n",
       "      <td>300</td>\n",
       "      <td>NaN</td>\n",
       "      <td>NaN</td>\n",
       "      <td>NaN</td>\n",
       "      <td>39.0333</td>\n",
       "      <td>2.92016</td>\n",
       "      <td>16</td>\n",
       "      <td>37</td>\n",
       "      <td>39</td>\n",
       "      <td>41</td>\n",
       "      <td>48</td>\n",
       "    </tr>\n",
       "    <tr>\n",
       "      <th>vintage</th>\n",
       "      <td>7810</td>\n",
       "      <td>2</td>\n",
       "      <td>False</td>\n",
       "      <td>5082</td>\n",
       "      <td>NaN</td>\n",
       "      <td>NaN</td>\n",
       "      <td>NaN</td>\n",
       "      <td>NaN</td>\n",
       "      <td>NaN</td>\n",
       "      <td>NaN</td>\n",
       "      <td>NaN</td>\n",
       "    </tr>\n",
       "    <tr>\n",
       "      <th>brand</th>\n",
       "      <td>5764</td>\n",
       "      <td>3329</td>\n",
       "      <td>tmp</td>\n",
       "      <td>120</td>\n",
       "      <td>NaN</td>\n",
       "      <td>NaN</td>\n",
       "      <td>NaN</td>\n",
       "      <td>NaN</td>\n",
       "      <td>NaN</td>\n",
       "      <td>NaN</td>\n",
       "      <td>NaN</td>\n",
       "    </tr>\n",
       "    <tr>\n",
       "      <th>author</th>\n",
       "      <td>1883</td>\n",
       "      <td>1303</td>\n",
       "      <td>Collectif</td>\n",
       "      <td>29</td>\n",
       "      <td>NaN</td>\n",
       "      <td>NaN</td>\n",
       "      <td>NaN</td>\n",
       "      <td>NaN</td>\n",
       "      <td>NaN</td>\n",
       "      <td>NaN</td>\n",
       "      <td>NaN</td>\n",
       "    </tr>\n",
       "    <tr>\n",
       "      <th>editor</th>\n",
       "      <td>1910</td>\n",
       "      <td>800</td>\n",
       "      <td>Pocket</td>\n",
       "      <td>110</td>\n",
       "      <td>NaN</td>\n",
       "      <td>NaN</td>\n",
       "      <td>NaN</td>\n",
       "      <td>NaN</td>\n",
       "      <td>NaN</td>\n",
       "      <td>NaN</td>\n",
       "      <td>NaN</td>\n",
       "    </tr>\n",
       "    <tr>\n",
       "      <th>product_height</th>\n",
       "      <td>163</td>\n",
       "      <td>NaN</td>\n",
       "      <td>NaN</td>\n",
       "      <td>NaN</td>\n",
       "      <td>63.0368</td>\n",
       "      <td>31.9454</td>\n",
       "      <td>9</td>\n",
       "      <td>45.75</td>\n",
       "      <td>60</td>\n",
       "      <td>72</td>\n",
       "      <td>198</td>\n",
       "    </tr>\n",
       "    <tr>\n",
       "      <th>weight</th>\n",
       "      <td>11836</td>\n",
       "      <td>NaN</td>\n",
       "      <td>NaN</td>\n",
       "      <td>NaN</td>\n",
       "      <td>8965.61</td>\n",
       "      <td>90958.7</td>\n",
       "      <td>0.1</td>\n",
       "      <td>252</td>\n",
       "      <td>500</td>\n",
       "      <td>1000</td>\n",
       "      <td>2.7e+06</td>\n",
       "    </tr>\n",
       "    <tr>\n",
       "      <th>price</th>\n",
       "      <td>11840</td>\n",
       "      <td>NaN</td>\n",
       "      <td>NaN</td>\n",
       "      <td>NaN</td>\n",
       "      <td>21.7955</td>\n",
       "      <td>45.6837</td>\n",
       "      <td>0.5</td>\n",
       "      <td>6</td>\n",
       "      <td>10</td>\n",
       "      <td>22</td>\n",
       "      <td>2200</td>\n",
       "    </tr>\n",
       "    <tr>\n",
       "      <th>category</th>\n",
       "      <td>11835</td>\n",
       "      <td>11</td>\n",
       "      <td>mode</td>\n",
       "      <td>3964</td>\n",
       "      <td>NaN</td>\n",
       "      <td>NaN</td>\n",
       "      <td>NaN</td>\n",
       "      <td>NaN</td>\n",
       "      <td>NaN</td>\n",
       "      <td>NaN</td>\n",
       "      <td>NaN</td>\n",
       "    </tr>\n",
       "    <tr>\n",
       "      <th>sub_category_1</th>\n",
       "      <td>9704</td>\n",
       "      <td>172</td>\n",
       "      <td>mode</td>\n",
       "      <td>666</td>\n",
       "      <td>NaN</td>\n",
       "      <td>NaN</td>\n",
       "      <td>NaN</td>\n",
       "      <td>NaN</td>\n",
       "      <td>NaN</td>\n",
       "      <td>NaN</td>\n",
       "      <td>NaN</td>\n",
       "    </tr>\n",
       "    <tr>\n",
       "      <th>sub_category_2</th>\n",
       "      <td>4780</td>\n",
       "      <td>158</td>\n",
       "      <td>label selection</td>\n",
       "      <td>1508</td>\n",
       "      <td>NaN</td>\n",
       "      <td>NaN</td>\n",
       "      <td>NaN</td>\n",
       "      <td>NaN</td>\n",
       "      <td>NaN</td>\n",
       "      <td>NaN</td>\n",
       "      <td>NaN</td>\n",
       "    </tr>\n",
       "    <tr>\n",
       "      <th>sub_category_3</th>\n",
       "      <td>1228</td>\n",
       "      <td>127</td>\n",
       "      <td>les coups de coeur des vendeurs</td>\n",
       "      <td>94</td>\n",
       "      <td>NaN</td>\n",
       "      <td>NaN</td>\n",
       "      <td>NaN</td>\n",
       "      <td>NaN</td>\n",
       "      <td>NaN</td>\n",
       "      <td>NaN</td>\n",
       "      <td>NaN</td>\n",
       "    </tr>\n",
       "    <tr>\n",
       "      <th>sub_category_4</th>\n",
       "      <td>92</td>\n",
       "      <td>47</td>\n",
       "      <td>Le Cuir</td>\n",
       "      <td>7</td>\n",
       "      <td>NaN</td>\n",
       "      <td>NaN</td>\n",
       "      <td>NaN</td>\n",
       "      <td>NaN</td>\n",
       "      <td>NaN</td>\n",
       "      <td>NaN</td>\n",
       "      <td>NaN</td>\n",
       "    </tr>\n",
       "    <tr>\n",
       "      <th>product_name</th>\n",
       "      <td>10779</td>\n",
       "      <td>10524</td>\n",
       "      <td>carte postale</td>\n",
       "      <td>8</td>\n",
       "      <td>NaN</td>\n",
       "      <td>NaN</td>\n",
       "      <td>NaN</td>\n",
       "      <td>NaN</td>\n",
       "      <td>NaN</td>\n",
       "      <td>NaN</td>\n",
       "      <td>NaN</td>\n",
       "    </tr>\n",
       "    <tr>\n",
       "      <th>store_name</th>\n",
       "      <td>11840</td>\n",
       "      <td>46</td>\n",
       "      <td>Emmaüs Lyon</td>\n",
       "      <td>1198</td>\n",
       "      <td>NaN</td>\n",
       "      <td>NaN</td>\n",
       "      <td>NaN</td>\n",
       "      <td>NaN</td>\n",
       "      <td>NaN</td>\n",
       "      <td>NaN</td>\n",
       "      <td>NaN</td>\n",
       "    </tr>\n",
       "  </tbody>\n",
       "</table>\n",
       "</div>"
      ],
      "text/plain": [
       "                     count unique  \\\n",
       "images_count         11840    NaN   \n",
       "image_width          11770    NaN   \n",
       "image_height         11770    NaN   \n",
       "image_url            11770  11681   \n",
       "product_description  11840  11768   \n",
       "product_size          3232     33   \n",
       "material              5252   2174   \n",
       "age                    168     18   \n",
       "warranty               127      2   \n",
       "year                  1983    NaN   \n",
       "color                 7062     18   \n",
       "product_width          153    NaN   \n",
       "wifi                   101      2   \n",
       "condition            11813      5   \n",
       "product_length         131    NaN   \n",
       "shoe_size              300    NaN   \n",
       "vintage               7810      2   \n",
       "brand                 5764   3329   \n",
       "author                1883   1303   \n",
       "editor                1910    800   \n",
       "product_height         163    NaN   \n",
       "weight               11836    NaN   \n",
       "price                11840    NaN   \n",
       "category             11835     11   \n",
       "sub_category_1        9704    172   \n",
       "sub_category_2        4780    158   \n",
       "sub_category_3        1228    127   \n",
       "sub_category_4          92     47   \n",
       "product_name         10779  10524   \n",
       "store_name           11840     46   \n",
       "\n",
       "                                                                   top  freq  \\\n",
       "images_count                                                       NaN   NaN   \n",
       "image_width                                                        NaN   NaN   \n",
       "image_height                                                       NaN   NaN   \n",
       "image_url            https://d1kvfoyrif6wzg.cloudfront.net/assets/i...     5   \n",
       "product_description  <br>Fabriqué à par les artisans-apprenants d'E...     8   \n",
       "product_size                                                        38   524   \n",
       "material                                                         Coton   202   \n",
       "age                                                                 4a    19   \n",
       "warranty                                                        6 mois   126   \n",
       "year                                                               NaN   NaN   \n",
       "color                                                      Multicolore  1425   \n",
       "product_width                                                      NaN   NaN   \n",
       "wifi                                                              True    78   \n",
       "condition                                                     bon état  6049   \n",
       "product_length                                                     NaN   NaN   \n",
       "shoe_size                                                          NaN   NaN   \n",
       "vintage                                                          False  5082   \n",
       "brand                                                              tmp   120   \n",
       "author                                                       Collectif    29   \n",
       "editor                                                          Pocket   110   \n",
       "product_height                                                     NaN   NaN   \n",
       "weight                                                             NaN   NaN   \n",
       "price                                                              NaN   NaN   \n",
       "category                                                          mode  3964   \n",
       "sub_category_1                                                    mode   666   \n",
       "sub_category_2                                         label selection  1508   \n",
       "sub_category_3                         les coups de coeur des vendeurs    94   \n",
       "sub_category_4                                                 Le Cuir     7   \n",
       "product_name                                             carte postale     8   \n",
       "store_name                                                 Emmaüs Lyon  1198   \n",
       "\n",
       "                        mean      std  min     25%   50%   75%          max  \n",
       "images_count         3.65465  2.05784    0       2     3     5           29  \n",
       "image_width          1804.89  1021.47   58    1000  1536  2448         5472  \n",
       "image_height         1800.66  1103.08   64  962.75  1536  2448         6016  \n",
       "image_url                NaN      NaN  NaN     NaN   NaN   NaN          NaN  \n",
       "product_description      NaN      NaN  NaN     NaN   NaN   NaN          NaN  \n",
       "product_size             NaN      NaN  NaN     NaN   NaN   NaN          NaN  \n",
       "material                 NaN      NaN  NaN     NaN   NaN   NaN          NaN  \n",
       "age                      NaN      NaN  NaN     NaN   NaN   NaN          NaN  \n",
       "warranty                 NaN      NaN  NaN     NaN   NaN   NaN          NaN  \n",
       "year                   11667   431160    0    1979  1998  2007  1.92019e+07  \n",
       "color                    NaN      NaN  NaN     NaN   NaN   NaN          NaN  \n",
       "product_width        45.7928  28.4373   10      30    40    50          180  \n",
       "wifi                     NaN      NaN  NaN     NaN   NaN   NaN          NaN  \n",
       "condition                NaN      NaN  NaN     NaN   NaN   NaN          NaN  \n",
       "product_length        67.487  41.7444   23      35    50    80          250  \n",
       "shoe_size            39.0333  2.92016   16      37    39    41           48  \n",
       "vintage                  NaN      NaN  NaN     NaN   NaN   NaN          NaN  \n",
       "brand                    NaN      NaN  NaN     NaN   NaN   NaN          NaN  \n",
       "author                   NaN      NaN  NaN     NaN   NaN   NaN          NaN  \n",
       "editor                   NaN      NaN  NaN     NaN   NaN   NaN          NaN  \n",
       "product_height       63.0368  31.9454    9   45.75    60    72          198  \n",
       "weight               8965.61  90958.7  0.1     252   500  1000      2.7e+06  \n",
       "price                21.7955  45.6837  0.5       6    10    22         2200  \n",
       "category                 NaN      NaN  NaN     NaN   NaN   NaN          NaN  \n",
       "sub_category_1           NaN      NaN  NaN     NaN   NaN   NaN          NaN  \n",
       "sub_category_2           NaN      NaN  NaN     NaN   NaN   NaN          NaN  \n",
       "sub_category_3           NaN      NaN  NaN     NaN   NaN   NaN          NaN  \n",
       "sub_category_4           NaN      NaN  NaN     NaN   NaN   NaN          NaN  \n",
       "product_name             NaN      NaN  NaN     NaN   NaN   NaN          NaN  \n",
       "store_name               NaN      NaN  NaN     NaN   NaN   NaN          NaN  "
      ]
     },
     "execution_count": 20,
     "metadata": {},
     "output_type": "execute_result"
    }
   ],
   "source": [
    "df_all.describe(include='all').T"
   ]
  },
  {
   "cell_type": "markdown",
   "metadata": {},
   "source": [
    "### the products that repeats "
   ]
  },
  {
   "cell_type": "code",
   "execution_count": 15,
   "metadata": {},
   "outputs": [
    {
     "data": {
      "text/plain": [
       "carte postale                                                                      6\n",
       "Vase                                                                               6\n",
       "Collection Papillons                                                               4\n",
       "Parce que je t'aime - Guillaume Musso                                              4\n",
       "Poupée en porcelaine.                                                              4\n",
       "Sac à main                                                                         4\n",
       "Set compas pour dessin technique                                                   4\n",
       "Poupée en Porcelaine                                                               4\n",
       "Voiture Tintin                                                                     3\n",
       "Lot de 4 œufs de collection Franklin Mint                                          3\n",
       "Boucles d'oreilles vintage                                                         3\n",
       "Sac à main Arthur et Aston                                                         3\n",
       "Echarpe & bonnet neufs laine et cachemire                                          3\n",
       "Echarpe neuve en laine 100% cachemire                                              3\n",
       "La vérité sur l'Affaire Harry Quebert - Joël Dicker                                3\n",
       "Les Catilinaires - Amélie Nothomb                                                  3\n",
       "L'Homme de Saint-Pétersbourg - Ken Follett                                         3\n",
       "Lampe à pétrole                                                                    3\n",
       "Et après... - Guillaume Musso                                                      3\n",
       "Poterie Vallauris                                                                  3\n",
       "Paire de gants 100% cachemire neuve                                                3\n",
       "Moulin à café                                                                      3\n",
       "Des souris et des hommes - John Steinbeck                                          2\n",
       "Très beau sac vintage                                                              2\n",
       "Echarpe neuve en laine 100% cachemire.                                             2\n",
       "Vase Vallauris                                                                     2\n",
       "Douze contes vagabonds - Gabriel García Márquez                                    2\n",
       "Ceinture kimono en dentelle                                                        2\n",
       "Robe Vintage                                                                       2\n",
       "Baromètre                                                                          2\n",
       "                                                                                  ..\n",
       "Dragon ball Vol.31 - Toriyama Akira                                                1\n",
       "Assiette de Sarreguemines Digoin                                                   1\n",
       "MANTEAU FEMME VINTAGE                                                              1\n",
       "Lecteur LaserDisc Karaoké Pioneer - Modèle CLD 160K (PAL/NTSC)                     1\n",
       "Chaussures MATTIL en cuir noir - Pointure 37.5                                     1\n",
       "Conserves et Confitures à la portée de tous , 1930                                 1\n",
       "Diptyque : Objet religieux en bois.                                                1\n",
       "Pot à épices St Clément France                                                     1\n",
       "Module de rangement bureau complémentaire 44x120x43 grise / imitation bois pâle    1\n",
       "Jean bleu Marine pour homme de la marque JAPAN RAGS JEANS                          1\n",
       "Coule la Seine - Fred Vargas                                                       1\n",
       "Robe grise à preles femme SINEQUANONE                                              1\n",
       "Magnifique cruche en  Etain                                                        1\n",
       "ADIDAS - T40 ( ref.o28 )                                                           1\n",
       "Sac en tissu taupe pour femme de la marque S&G                                     1\n",
       "Dictionnaire universel des contemporains par G. Vapereau                           1\n",
       "A paris, sous la botte des nazis de Jean Eparvier                                  1\n",
       "Lampe laiton avec tulipe                                                           1\n",
       "Tirelire Oiseau                                                                    1\n",
       "verrines et coupe à glace                                                          1\n",
       "Maillot neuf Taille 40                                                             1\n",
       "Haut H&M                                                                           1\n",
       " SIX FEET UNDER.  L' INTEGRALE DE LA SERIE 2001-2005 - COFFRET 25 DVD              1\n",
       "Dessin artistique signé - Paris 77                                                 1\n",
       "Pierre et le loup,de prokofiev,  texte dit par robert Lamoureux                    1\n",
       "donald                                                                             1\n",
       "Jupe patineuse saumon femme PIMKIE                                                 1\n",
       "Album de timbres   pour jeune collectionneur ,plus de 250 timbres (1)              1\n",
       "Tableau masque art Africain                                                        1\n",
       "Sabots Marc by Marc Jacobs cuir et bois                                            1\n",
       "Name: product_name, Length: 7921, dtype: int64"
      ]
     },
     "execution_count": 15,
     "metadata": {},
     "output_type": "execute_result"
    }
   ],
   "source": [
    "df.product_name.value_counts()"
   ]
  },
  {
   "cell_type": "markdown",
   "metadata": {},
   "source": [
    "## product_size - cat"
   ]
  },
  {
   "cell_type": "code",
   "execution_count": 13,
   "metadata": {},
   "outputs": [
    {
     "data": {
      "text/plain": [
       "<matplotlib.axes._subplots.AxesSubplot at 0x24d0fff19b0>"
      ]
     },
     "execution_count": 13,
     "metadata": {},
     "output_type": "execute_result"
    },
    {
     "data": {
      "image/png": "[encoded data removed]",
      "text/plain": [
       "<Figure size 1440x720 with 1 Axes>"
      ]
     },
     "metadata": {},
     "output_type": "display_data"
    }
   ],
   "source": [
    "X_train[\"product_size\"].value_counts().plot.bar(figsize = (20,10),\n",
    "                                               fontsize = 15)"
   ]
  },
  {
   "cell_type": "markdown",
   "metadata": {},
   "source": [
    "### product_width\n"
   ]
  },
  {
   "cell_type": "markdown",
   "metadata": {},
   "source": [
    "### product_length"
   ]
  },
  {
   "cell_type": "markdown",
   "metadata": {},
   "source": [
    "## material"
   ]
  },
  {
   "cell_type": "code",
   "execution_count": 17,
   "metadata": {},
   "outputs": [
    {
     "data": {
      "text/plain": [
       "Coton                                                                             144\n",
       "Cuir                                                                              107\n",
       "100% coton                                                                         89\n",
       "cuir                                                                               70\n",
       "coton                                                                              69\n",
       "non renseignée                                                                     65\n",
       "Polyester                                                                          54\n",
       "Bois                                                                               53\n",
       "Métal                                                                              48\n",
       "100% polyester                                                                     46\n",
       "Laine                                                                              46\n",
       "bois                                                                               41\n",
       "100% coton                                                                         40\n",
       "polyester                                                                          39\n",
       "métal                                                                              37\n",
       "Soie                                                                               35\n",
       "porcelaine                                                                         34\n",
       "Verre                                                                              32\n",
       "non renseignée.                                                                    30\n",
       "soie                                                                               30\n",
       "Non renseignée                                                                     30\n",
       "synthétique                                                                        29\n",
       "Plastique                                                                          29\n",
       "verre                                                                              28\n",
       "100% polyester                                                                     26\n",
       "Porcelaine                                                                         24\n",
       "Lin                                                                                23\n",
       "Céramique                                                                          23\n",
       "Laiton                                                                             19\n",
       "100 % coton                                                                        19\n",
       "                                                                                 ... \n",
       "Estimée polyester, élasthanne                                                       1\n",
       "45% acrylique; 25% polyester; 25% laine; 5% autres fibres / doublure : acétate      1\n",
       "100% ACRYLIC                                                                        1\n",
       "85 % Polyester , 15 % polyuréthane                                                  1\n",
       "50% laine mérinos 50% acrylique                                                     1\n",
       " Étain 95%                                                                          1\n",
       "74 % coton, 24 % polyester et 2 % élasthanne                                        1\n",
       "bois  et métal                                                                      1\n",
       "Estimé polyester                                                                    1\n",
       "cuivre                                                                              1\n",
       "verre, grès, plastique                                                              1\n",
       "ARGENT                                                                              1\n",
       "COTON/ ÉLASTHANNE                                                                   1\n",
       "Métal plastique liège                                                               1\n",
       "Extérieur : polyamide / doublure : coton                                            1\n",
       "50% polyacrylique, 50% coton.                                                       1\n",
       "Poils                                                                               1\n",
       "Font                                                                                1\n",
       "67% coton, 33% polyester.                                                           1\n",
       "jean                                                                                1\n",
       "55% laine 37% polyester 8% acrylique                                                1\n",
       "paille / coton                                                                      1\n",
       "78% coton, 22% lin, doublure 100% soie                                              1\n",
       "drap de laine                                                                       1\n",
       "laine et coton                                                                      1\n",
       "Vison, Daim                                                                         1\n",
       "coton /  élasthanne                                                                 1\n",
       "cuir véritable                                                                      1\n",
       "nylon, élasthanne, polyester                                                        1\n",
       "90ù Polystere, 10% elasthane                                                        1\n",
       "Name: material, Length: 1722, dtype: int64"
      ]
     },
     "execution_count": 17,
     "metadata": {},
     "output_type": "execute_result"
    }
   ],
   "source": [
    "X_train[\"material\"].value_counts()"
   ]
  },
  {
   "cell_type": "code",
   "execution_count": null,
   "metadata": {},
   "outputs": [],
   "source": []
  },
  {
   "cell_type": "markdown",
   "metadata": {},
   "source": [
    "### age"
   ]
  },
  {
   "cell_type": "code",
   "execution_count": 21,
   "metadata": {},
   "outputs": [
    {
     "data": {
      "text/plain": [
       "<matplotlib.axes._subplots.AxesSubplot at 0x24d18048d30>"
      ]
     },
     "execution_count": 21,
     "metadata": {},
     "output_type": "execute_result"
    },
    {
     "data": {
      "image/png": "[encoded data removed]",
      "text/plain": [
       "<Figure size 1080x504 with 1 Axes>"
      ]
     },
     "metadata": {},
     "output_type": "display_data"
    }
   ],
   "source": [
    "X_train['age'].value_counts().plot.bar(figsize=(15,7))"
   ]
  },
  {
   "cell_type": "markdown",
   "metadata": {},
   "source": [
    "### year"
   ]
  },
  {
   "cell_type": "code",
   "execution_count": 43,
   "metadata": {},
   "outputs": [
    {
     "data": {
      "text/plain": [
       "count        1497.000000\n",
       "mean        14810.114896\n",
       "std        496236.950822\n",
       "min             0.000000\n",
       "25%          1979.000000\n",
       "50%          1998.000000\n",
       "75%          2007.000000\n",
       "max      19201930.000000\n",
       "Name: year, dtype: object"
      ]
     },
     "execution_count": 43,
     "metadata": {},
     "output_type": "execute_result"
    }
   ],
   "source": [
    "X_train['year'].describe().apply(lambda x: format(x,'f'))"
   ]
  },
  {
   "cell_type": "code",
   "execution_count": 38,
   "metadata": {},
   "outputs": [
    {
     "data": {
      "text/plain": [
       "count        1497.000000\n",
       "mean        14810.114896\n",
       "std        496236.950822\n",
       "min             0.000000\n",
       "25%          1979.000000\n",
       "50%          1998.000000\n",
       "75%          2007.000000\n",
       "max      19201930.000000\n",
       "Name: year, dtype: object"
      ]
     },
     "execution_count": 38,
     "metadata": {},
     "output_type": "execute_result"
    }
   ],
   "source": [
    "X_train['year'][X_train['year'].notnull()].describe().apply(lambda x: format(x,'f'))"
   ]
  },
  {
   "cell_type": "code",
   "execution_count": 53,
   "metadata": {},
   "outputs": [],
   "source": [
    "# X_train['year'][X_train['year'].notnull()].value_counts().plot.bar(figsize=(15,8))"
   ]
  },
  {
   "cell_type": "code",
   "execution_count": 54,
   "metadata": {},
   "outputs": [
    {
     "data": {
      "text/plain": [
       "6 mois    100\n",
       "3 mois      1\n",
       "Name: warranty, dtype: int64"
      ]
     },
     "execution_count": 54,
     "metadata": {},
     "output_type": "execute_result"
    }
   ],
   "source": [
    "X_train['warranty'].value_counts()"
   ]
  },
  {
   "cell_type": "markdown",
   "metadata": {},
   "source": [
    "### category\n"
   ]
  },
  {
   "cell_type": "code",
   "execution_count": 22,
   "metadata": {},
   "outputs": [
    {
     "data": {
      "text/plain": [
       "<matplotlib.axes._subplots.AxesSubplot at 0x24d180509b0>"
      ]
     },
     "execution_count": 22,
     "metadata": {},
     "output_type": "execute_result"
    },
    {
     "data": {
      "image/png": "[encoded data removed]",
      "text/plain": [
       "<Figure size 432x288 with 1 Axes>"
      ]
     },
     "metadata": {},
     "output_type": "display_data"
    }
   ],
   "source": [
    "X_train['category'].value_counts().plot.bar()"
   ]
  },
  {
   "cell_type": "markdown",
   "metadata": {},
   "source": [
    "## condition"
   ]
  },
  {
   "cell_type": "code",
   "execution_count": 28,
   "metadata": {},
   "outputs": [
    {
     "data": {
      "text/plain": [
       "24"
      ]
     },
     "execution_count": 28,
     "metadata": {},
     "output_type": "execute_result"
    }
   ],
   "source": [
    "X_train['condition'].isnull().sum()"
   ]
  },
  {
   "cell_type": "code",
   "execution_count": 29,
   "metadata": {},
   "outputs": [
    {
     "data": {
      "text/plain": [
       "bon état         4537\n",
       "en l'état        1577\n",
       "comme neuf       1110\n",
       "reconditionné     885\n",
       "neuf              747\n",
       "Name: condition, dtype: int64"
      ]
     },
     "execution_count": 29,
     "metadata": {},
     "output_type": "execute_result"
    }
   ],
   "source": [
    "X_train['condition'].value_counts().plot.bar(figsize = (15,8), fontsize = 15 )"
   ]
  },
  {
   "cell_type": "code",
   "execution_count": 50,
   "metadata": {},
   "outputs": [],
   "source": [
    "def fix_condition(df):\n",
    "    conditions = ['vide','autre','reconditionné','comme neuf','neuf','en l\\'état','bon état']\n",
    "    df['condition'].fillna('vide',inplace=True)    \n",
    "    df['condition'].apply(lambda x : x if x in conditions else 'autre')\n",
    "    le = preprocessing.LabelEncoder()\n",
    "    le.fit(conditions)\n",
    "    df['condition'] = le.transform(df['condition']) \n",
    "    "
   ]
  },
  {
   "cell_type": "markdown",
   "metadata": {},
   "source": [
    "## price"
   ]
  },
  {
   "cell_type": "code",
   "execution_count": 100,
   "metadata": {},
   "outputs": [
    {
     "data": {
      "text/plain": [
       "<matplotlib.axes._subplots.AxesSubplot at 0x24d35f29b38>"
      ]
     },
     "execution_count": 100,
     "metadata": {},
     "output_type": "execute_result"
    },
    {
     "data": {
      "image/png": "[encoded data removed]",
      "text/plain": [
       "<Figure size 432x288 with 1 Axes>"
      ]
     },
     "metadata": {},
     "output_type": "display_data"
    }
   ],
   "source": [
    "X_train.price.plot(kind='hist',bins=10)"
   ]
  },
  {
   "cell_type": "code",
   "execution_count": 67,
   "metadata": {},
   "outputs": [
    {
     "data": {
      "text/plain": [
       "count    8880.000000\n",
       "mean       21.503309\n",
       "std        44.024320\n",
       "min         0.500000\n",
       "25%         6.000000\n",
       "50%        10.000000\n",
       "75%        20.000000\n",
       "max      2200.000000\n",
       "Name: price, dtype: float64"
      ]
     },
     "execution_count": 67,
     "metadata": {},
     "output_type": "execute_result"
    }
   ],
   "source": [
    "X_train.price.describe()"
   ]
  },
  {
   "cell_type": "code",
   "execution_count": 70,
   "metadata": {},
   "outputs": [
    {
     "data": {
      "text/plain": [
       "<matplotlib.axes._subplots.AxesSubplot at 0x24d34059780>"
      ]
     },
     "execution_count": 70,
     "metadata": {},
     "output_type": "execute_result"
    },
    {
     "data": {
      "image/png": "[encoded data removed]",
      "text/plain": [
       "<Figure size 432x288 with 1 Axes>"
      ]
     },
     "metadata": {},
     "output_type": "display_data"
    }
   ],
   "source": [
    "X_train.boxplot('price')"
   ]
  },
  {
   "cell_type": "code",
   "execution_count": 72,
   "metadata": {},
   "outputs": [
    {
     "data": {
      "text/plain": [
       "<matplotlib.axes._subplots.AxesSubplot at 0x24d3585a5f8>"
      ]
     },
     "execution_count": 72,
     "metadata": {},
     "output_type": "execute_result"
    },
    {
     "data": {
      "image/png": "[encoded data removed]",
      "text/plain": [
       "<Figure size 1080x576 with 1 Axes>"
      ]
     },
     "metadata": {},
     "output_type": "display_data"
    }
   ],
   "source": [
    "X_train.boxplot('price', by='category',\n",
    "               figsize=(15,8))"
   ]
  },
  {
   "cell_type": "code",
   "execution_count": 75,
   "metadata": {},
   "outputs": [
    {
     "data": {
      "text/plain": [
       "0.05     2.195\n",
       "0.95    70.000\n",
       "Name: price, dtype: float64"
      ]
     },
     "execution_count": 75,
     "metadata": {},
     "output_type": "execute_result"
    }
   ],
   "source": [
    "low,high = .05, .95\n",
    "price_quant = X_train.price.quantile([low,high])\n",
    "price_quant"
   ]
  },
  {
   "cell_type": "code",
   "execution_count": 85,
   "metadata": {},
   "outputs": [
    {
     "data": {
      "text/plain": [
       "2.1950000000000047"
      ]
     },
     "execution_count": 85,
     "metadata": {},
     "output_type": "execute_result"
    }
   ],
   "source": [
    "price_quant.loc[low]"
   ]
  },
  {
   "cell_type": "code",
   "execution_count": 94,
   "metadata": {},
   "outputs": [],
   "source": [
    "filter_price_quant = X_train.price.apply(lambda x : (x > price_quant.loc[low]) &  (x < price_quant.loc[high])) \n"
   ]
  },
  {
   "cell_type": "code",
   "execution_count": 97,
   "metadata": {},
   "outputs": [
    {
     "data": {
      "text/plain": [
       "count    7967.000000\n",
       "mean       15.506351\n",
       "std        12.747048\n",
       "min         2.200000\n",
       "25%         7.000000\n",
       "50%        10.000000\n",
       "75%        20.000000\n",
       "max        69.000000\n",
       "Name: price, dtype: float64"
      ]
     },
     "execution_count": 97,
     "metadata": {},
     "output_type": "execute_result"
    }
   ],
   "source": [
    "price_no_outliers = X_train.price[filter_price_quant]\n",
    "price_no_outliers.describe()"
   ]
  },
  {
   "cell_type": "code",
   "execution_count": 104,
   "metadata": {},
   "outputs": [
    {
     "data": {
      "text/plain": [
       "{'boxes': [<matplotlib.lines.Line2D at 0x24d38782208>],\n",
       " 'caps': [<matplotlib.lines.Line2D at 0x24d387e7908>,\n",
       "  <matplotlib.lines.Line2D at 0x24d38812c88>],\n",
       " 'fliers': [<matplotlib.lines.Line2D at 0x24d38881080>],\n",
       " 'means': [],\n",
       " 'medians': [<matplotlib.lines.Line2D at 0x24d3883afd0>],\n",
       " 'whiskers': [<matplotlib.lines.Line2D at 0x24d3879f780>,\n",
       "  <matplotlib.lines.Line2D at 0x24d387bd588>]}"
      ]
     },
     "execution_count": 104,
     "metadata": {},
     "output_type": "execute_result"
    },
    {
     "data": {
      "image/png": "[encoded data removed]",
      "text/plain": [
       "<Figure size 432x288 with 1 Axes>"
      ]
     },
     "metadata": {},
     "output_type": "display_data"
    }
   ],
   "source": [
    "plt.boxplot(price_no_outliers)"
   ]
  },
  {
   "cell_type": "code",
   "execution_count": 98,
   "metadata": {},
   "outputs": [
    {
     "data": {
      "text/plain": [
       "<matplotlib.axes._subplots.AxesSubplot at 0x24d35ec4c18>"
      ]
     },
     "execution_count": 98,
     "metadata": {},
     "output_type": "execute_result"
    },
    {
     "data": {
      "image/png": "[encoded data removed]",
      "text/plain": [
       "<Figure size 432x288 with 1 Axes>"
      ]
     },
     "metadata": {},
     "output_type": "display_data"
    }
   ],
   "source": [
    "price_no_outliers.hist()"
   ]
  },
  {
   "cell_type": "markdown",
   "metadata": {},
   "source": [
    "### store_name"
   ]
  },
  {
   "cell_type": "code",
   "execution_count": 109,
   "metadata": {},
   "outputs": [
    {
     "data": {
      "text/plain": [
       "<matplotlib.axes._subplots.AxesSubplot at 0x24d39853be0>"
      ]
     },
     "execution_count": 109,
     "metadata": {},
     "output_type": "execute_result"
    },
    {
     "data": {
      "image/png": "[encoded data removed]",
      "text/plain": [
       "<Figure size 1152x576 with 1 Axes>"
      ]
     },
     "metadata": {},
     "output_type": "display_data"
    }
   ],
   "source": [
    "X_train['store_name'].value_counts().plot.barh(figsize=(16,8))"
   ]
  },
  {
   "cell_type": "markdown",
   "metadata": {},
   "source": [
    "### wifi"
   ]
  },
  {
   "cell_type": "code",
   "execution_count": 14,
   "metadata": {},
   "outputs": [
    {
     "name": "stdout",
     "output_type": "stream",
     "text": [
      "count      101\n",
      "unique       2\n",
      "top       True\n",
      "freq        78\n",
      "Name: wifi, dtype: object\n",
      "True     78\n",
      "False    23\n",
      "Name: wifi, dtype: int64\n",
      "is null?  11739\n"
     ]
    }
   ],
   "source": [
    "print(df_all['wifi'].describe())\n",
    "print(df_all['wifi'].value_counts())\n",
    "print(\"is null? \", df_all['wifi'].isnull().sum())"
   ]
  },
  {
   "cell_type": "markdown",
   "metadata": {},
   "source": [
    "### vintage"
   ]
  },
  {
   "cell_type": "code",
   "execution_count": 15,
   "metadata": {},
   "outputs": [
    {
     "name": "stdout",
     "output_type": "stream",
     "text": [
      "count      7810\n",
      "unique        2\n",
      "top       False\n",
      "freq       5082\n",
      "Name: vintage, dtype: object\n",
      "False    5082\n",
      "True     2728\n",
      "Name: vintage, dtype: int64\n",
      "is null?  4030\n"
     ]
    }
   ],
   "source": [
    "print(df_all['vintage'].describe())\n",
    "print(df_all['vintage'].value_counts())\n",
    "print(\"is null? \", df_all['vintage'].isnull().sum())"
   ]
  },
  {
   "cell_type": "markdown",
   "metadata": {},
   "source": [
    "## product_description"
   ]
  },
  {
   "cell_type": "code",
   "execution_count": null,
   "metadata": {},
   "outputs": [],
   "source": []
  },
  {
   "cell_type": "markdown",
   "metadata": {},
   "source": [
    "## image related featues :\n",
    "images_count,image_width, image_hight, image_url"
   ]
  },
  {
   "cell_type": "code",
   "execution_count": null,
   "metadata": {},
   "outputs": [],
   "source": []
  }
 ],
 "metadata": {
  "kernelspec": {
   "display_name": "Python 3",
   "language": "python",
   "name": "python3"
  },
  "language_info": {
   "codemirror_mode": {
    "name": "ipython",
    "version": 3
   },
   "file_extension": ".py",
   "mimetype": "text/x-python",
   "name": "python",
   "nbconvert_exporter": "python",
   "pygments_lexer": "ipython3",
   "version": "3.7.1"
  },
  "widgets": {
   "state": {},
   "version": "1.1.1"
  }
 },
 "nbformat": 4,
 "nbformat_minor": 2
}
