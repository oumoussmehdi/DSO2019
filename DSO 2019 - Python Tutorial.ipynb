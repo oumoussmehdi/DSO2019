{
 "cells": [
  {
   "cell_type": "markdown",
   "metadata": {},
   "source": [
    "# Python Tutorial - DSO 2019 Training\n",
    "\n",
    "This tutorial is intended to guide people wishing to use Python to participate in the challenge.\n",
    "\n",
    "It has 5 steps:\n",
    "\n",
    "1. Importing data\n",
    "2. Descriptive analysis\n",
    "3. Data Preparation\n",
    "4. Creating a template\n",
    "5. Calculation of predictions and submissions\n",
    "\n",
    "# Data Import\n",
    "\n",
    "Let's install the necessary packages for this tutorial:"
   ]
  },
  {
   "cell_type": "code",
   "execution_count": null,
   "metadata": {},
   "outputs": [],
   "source": [
    "import pandas as pd\n",
    "import numpy as np\n",
    "import matplotlib.pyplot as plt\n",
    "%matplotlib inline \n",
    "pd.set_option('display.max_columns', 500)"
   ]
  },
  {
   "cell_type": "code",
   "execution_count": null,
   "metadata": {},
   "outputs": [],
   "source": [
    "%%time\n",
    "X_train = pd.read_csv(\"X_train.csv\", index_col=0, error_bad_lines=False)\n",
    "X_test = pd.read_csv(\"X_test.csv\", index_col=0, error_bad_lines=False)\n",
    "y_train = pd.read_csv(\"y_train.csv\", index_col=0)"
   ]
  },
  {
   "cell_type": "code",
   "execution_count": null,
   "metadata": {},
   "outputs": [],
   "source": [
    "print(\"Dimension X_train:\", X_train.shape)\n",
    "print(\"Dimension X_test:\", X_test.shape)"
   ]
  },
  {
   "cell_type": "code",
   "execution_count": null,
   "metadata": {},
   "outputs": [],
   "source": [
    "X_train.head(3)"
   ]
  },
  {
   "cell_type": "markdown",
   "metadata": {},
   "source": [
    "# Descriptive analysis\n",
    "\n",
    "## Structure of the datasets\n",
    "\n",
    "The train dataset contains the characteristics and time of sale of **8880** items sold on the Emmaus website. It is this dataset that we will use to create a model. Each object is described by an observation of X variables. These variables are described in the ```description.pdf``` file in the USB key.\n",
    "\n",
    "The test dataset contains the characteristics of **2960 objects**, which must be predicted for the time of sale. Unlike the train, the sell time is of course not filled in and an ```id``` column has been added to identify the predictions during the submission stage."
   ]
  },
  {
   "cell_type": "code",
   "execution_count": null,
   "metadata": {
    "scrolled": true
   },
   "outputs": [],
   "source": [
    "X_train.describe(include='all').T"
   ]
  },
  {
   "cell_type": "code",
   "execution_count": null,
   "metadata": {},
   "outputs": [],
   "source": [
    "y_train.duration.value_counts()"
   ]
  },
  {
   "cell_type": "markdown",
   "metadata": {},
   "source": [
    "The dataset is very balanced, each of the 3 classes has a frequency close to 1/3."
   ]
  },
  {
   "cell_type": "markdown",
   "metadata": {},
   "source": [
    "# Model Creation\n",
    "\n",
    "Now is the time to create a model. In this tutorial we will build a Random Forest.\n",
    "\n",
    "To do this we use the variables ```[\"weight\",\"price\",\"nb_images\",\"image_length\",\"image_width\",\"category\"]```.\n",
    "\n",
    "To avoid overfitting and estimate the true performance of our model we will use the criterion of cross-validation **k-fold** method (cross-validation)."
   ]
  },
  {
   "cell_type": "code",
   "execution_count": null,
   "metadata": {},
   "outputs": [],
   "source": [
    "from sklearn.pipeline import Pipeline\n",
    "from sklearn.preprocessing import Imputer\n",
    "from sklearn.ensemble import RandomForestClassifier\n",
    "from sklearn.model_selection import cross_val_predict\n",
    "from sklearn.preprocessing import LabelEncoder"
   ]
  },
  {
   "cell_type": "markdown",
   "metadata": {},
   "source": [
    "### Imputation of missing values by the value \"missing\""
   ]
  },
  {
   "cell_type": "code",
   "execution_count": null,
   "metadata": {},
   "outputs": [],
   "source": [
    "X_train.category.fillna('missing', inplace=True)\n",
    "X_test.category.fillna('missing', inplace=True)"
   ]
  },
  {
   "cell_type": "markdown",
   "metadata": {},
   "source": [
    "### Encoding categorical features\n",
    "\n",
    "Machine learning algorithms expect to have **numbers** as input, not strings. That's why we turn **categorical features** into numbers, using ```LabelEncoder ()```"
   ]
  },
  {
   "cell_type": "code",
   "execution_count": null,
   "metadata": {},
   "outputs": [],
   "source": [
    "X_train.category.unique()"
   ]
  },
  {
   "cell_type": "code",
   "execution_count": null,
   "metadata": {},
   "outputs": [],
   "source": [
    "le = LabelEncoder()\n",
    "X_train['category'] = le.fit_transform(X_train.category)\n",
    "X_test['category'] = le.transform(X_test.category)"
   ]
  },
  {
   "cell_type": "code",
   "execution_count": null,
   "metadata": {},
   "outputs": [],
   "source": [
    "features = [\"weight\", \"price\", \"images_count\",\n",
    "            \"image_width\", \"image_height\", \"category\"]\n",
    "\n",
    "ppl = Pipeline([(\"imputer\", Imputer(strategy='median')),\n",
    "                (\"clf\", RandomForestClassifier(n_estimators=10))])\n",
    "\n",
    "ppl.fit(X_train.loc[:, features], np.ravel(y_train))\n",
    "\n",
    "pred_train = ppl.predict_proba(X_train.loc[:, features])\n",
    "pred_cv = cross_val_predict(ppl, X_train.loc[:, features], np.ravel(y_train),\n",
    "                            method='predict_proba', cv=5, n_jobs=-1)"
   ]
  },
  {
   "cell_type": "markdown",
   "metadata": {},
   "source": [
    "# Calcul de l'erreur: logloss"
   ]
  },
  {
   "cell_type": "code",
   "execution_count": null,
   "metadata": {},
   "outputs": [],
   "source": [
    "from sklearn.metrics import log_loss "
   ]
  },
  {
   "cell_type": "code",
   "execution_count": null,
   "metadata": {},
   "outputs": [],
   "source": [
    "print(\"LogLoss on train sample:\",log_loss(y_pred=pred_train, y_true=y_train))\n",
    "print(\"LogLoss on train sample (CV):\",log_loss(y_pred=pred_cv, y_true=y_train))"
   ]
  },
  {
   "cell_type": "markdown",
   "metadata": {},
   "source": [
    "# Calcul des predictions"
   ]
  },
  {
   "cell_type": "code",
   "execution_count": null,
   "metadata": {},
   "outputs": [],
   "source": [
    "pred_test = ppl.predict_proba(X_test.loc[:, features])"
   ]
  },
  {
   "cell_type": "code",
   "execution_count": null,
   "metadata": {
    "scrolled": true
   },
   "outputs": [],
   "source": [
    "df_submission = pd.DataFrame(pred_test, index=X_test.index)"
   ]
  },
  {
   "cell_type": "markdown",
   "metadata": {},
   "source": [
    "# Submission\n",
    "\n",
    "## Possibility #1: via the QScore API\n",
    "\n",
    "1. Go to the platform [QScore](https://qscore.datascience-olympics.com) then in \"Submissions\"> \"Submit from your Python Notebook\"\n",
    "2. Get your TOKEN\n",
    "3. Replace it in the function below and execute it"
   ]
  },
  {
   "cell_type": "code",
   "execution_count": null,
   "metadata": {},
   "outputs": [],
   "source": [
    "import io, math, requests\n",
    "\n",
    "# Only works in Python3, see comment below for Python2\n",
    "def submit_prediction(df, sep=',', **kwargs):\n",
    "    # TOKEN to recover on the platform: \"Submissions\"> \"Submit from your Python Notebook\"\n",
    "    TOKEN='<YOUR TOKEN>'  \n",
    "    URL='https://qscore.datascience-olympics.com/api/submissions'\n",
    "    #buffer = io.BytesIO() # Python 2\n",
    "    buffer = io.StringIO() # Python 3\n",
    "    df.to_csv(buffer, sep=sep, **kwargs)\n",
    "    buffer.seek(0)\n",
    "    r = requests.post(URL, headers={'Authorization': 'Bearer {}'.format(TOKEN)},files={'datafile': buffer})\n",
    "    if r.status_code == 429:\n",
    "        raise Exception('Submissions are too close. Next submission is only allowed in {} seconds.'.format(int(math.ceil(int(r.headers['x-rate-limit-remaining']) / 1000.0))))\n",
    "    if r.status_code != 200:\n",
    "        raise Exception(r.text)"
   ]
  },
  {
   "cell_type": "code",
   "execution_count": null,
   "metadata": {},
   "outputs": [],
   "source": [
    "submit_prediction(df_submission, sep=',', index=True)"
   ]
  },
  {
   "cell_type": "markdown",
   "metadata": {},
   "source": [
    "## Possibility #2: Submit a CSV file\n",
    "\n",
    "1. Go to the platform [QScore](https://qscore.datascience-olympics.com) then in \"Submissions\"> \"Submit with a file\"\n",
    "2. Deposit the CSV file"
   ]
  },
  {
   "cell_type": "code",
   "execution_count": null,
   "metadata": {},
   "outputs": [],
   "source": [
    "df_submission.to_csv(\"my_prediction.csv\", index_label=\"id\", header=['0', '1', '2'])"
   ]
  }
 ],
 "metadata": {
  "kernelspec": {
   "display_name": "Python 3",
   "language": "python",
   "name": "python3"
  },
  "language_info": {
   "codemirror_mode": {
    "name": "ipython",
    "version": 3
   },
   "file_extension": ".py",
   "mimetype": "text/x-python",
   "name": "python",
   "nbconvert_exporter": "python",
   "pygments_lexer": "ipython3",
   "version": "3.6.4"
  },
  "widgets": {
   "state": {},
   "version": "1.1.1"
  }
 },
 "nbformat": 4,
 "nbformat_minor": 2
}
